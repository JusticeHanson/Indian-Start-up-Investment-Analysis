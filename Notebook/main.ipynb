{
 "cells": [
  {
   "cell_type": "markdown",
   "metadata": {},
   "source": [
    "# Indian Start-up Investment Analysis (2018 - 2021)"
   ]
  },
  {
   "cell_type": "markdown",
   "metadata": {},
   "source": [
    "### Aim:\n",
    "To assess the investment potential and attractiveness of the Indian startup ecosystem and provide recommendations for optimal course of action"
   ]
  },
  {
   "cell_type": "markdown",
   "metadata": {},
   "source": [
    "### Objectives:\n",
    " \n",
    "1. To assess the overall attractiveness of the Indian startup ecosystem based on funding trends and investor activity from 2018 to 2021.\n",
    "2. To identify key sectors with high potential for investment based on their funding attractiveness and growth prospects.\n",
    "3. To evaluate the investment opportunities across different stages of startup development and their risk-return profiles.\n",
    "4. To analyze the geographical distribution of startups and funding to identify strategic investment locations and regional investment disparities.\n",
    "5. To determine the correlation between funding amounts received by startups and their subsequent performance, providing insights into potential returns on investment and success rates."
   ]
  },
  {
   "cell_type": "markdown",
   "metadata": {},
   "source": [
    "### Business Questions:\n",
    "1. What are the trends in funding amounts for Indian startups from 2018 to 2021? Are there any significant fluctuations or consistent growth patterns observed over this period?\n",
    "\n",
    "2. Which sectors within the Indian startup ecosystem attracted the highest total funding during the specified timeframe? Are there any emerging sectors that have shown rapid growth in terms of investment?\n",
    "\n",
    "3. What is the distribution of investment amounts across different stages of startup development (e.g., seed, early-stage, growth)? Are certain stages more favored by investors, and if so, why?\n",
    "\n",
    "4. How is the geographical distribution of startups and funding within India? Are there specific regions or cities that have emerged as hubs for startup activity and investment, and are there any notable regional disparities?\n",
    "\n",
    "5. Is there a correlation between the funding amounts received by startups and their subsequent performance metrics such as revenue growth, user acquisition, or market share? What insights can be gleaned from this correlation in terms of potential returns on investment and success rates?\n",
    "\n",
    "6. Who are the top investors in the Indian startup ecosystem during the specified period? What sectors do they predominantly invest in, and are there any patterns in their investment strategies?\n",
    "\n",
    "7. What are the characteristics of successful Indian startups in terms of founding team composition, industry focus, and funding trajectory? Can these characteristics be used to identify potential investment opportunities or predict startup success"
   ]
  },
  {
   "cell_type": "markdown",
   "metadata": {},
   "source": [
    "### Hypothesis to Test:\n",
    " \n",
    "Given the goal of assessing the investment potential in the Indian startup ecosystem, we hypothesize that:\n",
    " \n",
    "**Null Hypothesis (H0)**: There is no clear pattern in the funding received by Indian startups from 2018 to 2021, and factors like sector, stage, location, and funding amount do not affect startup success.\n",
    "\n",
    "**Alternative Hypothesis (H1)**: There is a clear pattern in the funding received by Indian startups from 2018 to 2021, and factors like sector, stage, location, and funding amount affect startup success."
   ]
  },
  {
   "cell_type": "markdown",
   "metadata": {},
   "source": [
    "## Import Packages for Analysis"
   ]
  },
  {
   "cell_type": "code",
   "execution_count": 1,
   "metadata": {},
   "outputs": [],
   "source": [
    "# import relevant packages\n",
    "import pyodbc\n",
    "from dotenv import dotenv_values\n",
    "import pandas as pd\n",
    "import warnings\n",
    "import numpy as np\n",
    "\n",
    "warnings.filterwarnings('ignore')\n"
   ]
  },
  {
   "cell_type": "markdown",
   "metadata": {},
   "source": [
    "#### Connect to server for 2020 and 2021 datasets"
   ]
  },
  {
   "cell_type": "code",
   "execution_count": 2,
   "metadata": {},
   "outputs": [],
   "source": [
    "# load environment variables from .env file into a dictionary\n",
    "environment_variables = dotenv_values('.env')\n",
    "\n",
    "# Get the values for the credentials from .env file\n",
    "database=environment_variables.get(\"DATABASE\")\n",
    "server=environment_variables.get(\"SERVER\")\n",
    "login=environment_variables.get(\"LOGIN\")\n",
    "password=environment_variables.get(\"PASSWORD\")\n",
    "\n",
    "# create a connection string\n",
    "connection_string=f\"DRIVER={{SQL Server}};SERVER={server};DATABASE={database};UID={login};PWD={password}\""
   ]
  },
  {
   "cell_type": "code",
   "execution_count": 4,
   "metadata": {},
   "outputs": [],
   "source": [
    "# create connection using the pyodbc method \n",
    "\n",
    "connection = pyodbc.connect(connection_string)"
   ]
  },
  {
   "cell_type": "markdown",
   "metadata": {},
   "source": [
    "#### Select tables of interest from the Database"
   ]
  },
  {
   "cell_type": "code",
   "execution_count": 5,
   "metadata": {},
   "outputs": [],
   "source": [
    "# selecting tables from Database\n",
    "db_query = ''' SELECT *\n",
    "            FROM INFORMATION_SCHEMA.TABLES\n",
    "            WHERE TABLE_TYPE = 'BASE TABLE' '''"
   ]
  },
  {
   "cell_type": "markdown",
   "metadata": {},
   "source": [
    "#### View tables of interest from the Database for verification purposes"
   ]
  },
  {
   "cell_type": "code",
   "execution_count": 6,
   "metadata": {},
   "outputs": [
    {
     "data": {
      "text/html": [
       "<div>\n",
       "<style scoped>\n",
       "    .dataframe tbody tr th:only-of-type {\n",
       "        vertical-align: middle;\n",
       "    }\n",
       "\n",
       "    .dataframe tbody tr th {\n",
       "        vertical-align: top;\n",
       "    }\n",
       "\n",
       "    .dataframe thead th {\n",
       "        text-align: right;\n",
       "    }\n",
       "</style>\n",
       "<table border=\"1\" class=\"dataframe\">\n",
       "  <thead>\n",
       "    <tr style=\"text-align: right;\">\n",
       "      <th></th>\n",
       "      <th>TABLE_CATALOG</th>\n",
       "      <th>TABLE_SCHEMA</th>\n",
       "      <th>TABLE_NAME</th>\n",
       "      <th>TABLE_TYPE</th>\n",
       "    </tr>\n",
       "  </thead>\n",
       "  <tbody>\n",
       "    <tr>\n",
       "      <th>0</th>\n",
       "      <td>dapDB</td>\n",
       "      <td>dbo</td>\n",
       "      <td>LP1_startup_funding2021</td>\n",
       "      <td>BASE TABLE</td>\n",
       "    </tr>\n",
       "    <tr>\n",
       "      <th>1</th>\n",
       "      <td>dapDB</td>\n",
       "      <td>dbo</td>\n",
       "      <td>LP1_startup_funding2020</td>\n",
       "      <td>BASE TABLE</td>\n",
       "    </tr>\n",
       "  </tbody>\n",
       "</table>\n",
       "</div>"
      ],
      "text/plain": [
       "  TABLE_CATALOG TABLE_SCHEMA               TABLE_NAME  TABLE_TYPE\n",
       "0         dapDB          dbo  LP1_startup_funding2021  BASE TABLE\n",
       "1         dapDB          dbo  LP1_startup_funding2020  BASE TABLE"
      ]
     },
     "execution_count": 6,
     "metadata": {},
     "output_type": "execute_result"
    }
   ],
   "source": [
    "# call selected table from SQL Database\n",
    "ata=pd.read_sql(db_query, connection)\n",
    "\n",
    "ata"
   ]
  },
  {
   "cell_type": "markdown",
   "metadata": {},
   "source": [
    "## Data_2020 Manipulation"
   ]
  },
  {
   "cell_type": "code",
   "execution_count": 7,
   "metadata": {},
   "outputs": [
    {
     "data": {
      "text/html": [
       "<div>\n",
       "<style scoped>\n",
       "    .dataframe tbody tr th:only-of-type {\n",
       "        vertical-align: middle;\n",
       "    }\n",
       "\n",
       "    .dataframe tbody tr th {\n",
       "        vertical-align: top;\n",
       "    }\n",
       "\n",
       "    .dataframe thead th {\n",
       "        text-align: right;\n",
       "    }\n",
       "</style>\n",
       "<table border=\"1\" class=\"dataframe\">\n",
       "  <thead>\n",
       "    <tr style=\"text-align: right;\">\n",
       "      <th></th>\n",
       "      <th>Company_Brand</th>\n",
       "      <th>Founded</th>\n",
       "      <th>HeadQuarter</th>\n",
       "      <th>Sector</th>\n",
       "      <th>What_it_does</th>\n",
       "      <th>Founders</th>\n",
       "      <th>Investor</th>\n",
       "      <th>Amount</th>\n",
       "      <th>Stage</th>\n",
       "      <th>column10</th>\n",
       "    </tr>\n",
       "  </thead>\n",
       "  <tbody>\n",
       "    <tr>\n",
       "      <th>0</th>\n",
       "      <td>Aqgromalin</td>\n",
       "      <td>2019.0</td>\n",
       "      <td>Chennai</td>\n",
       "      <td>AgriTech</td>\n",
       "      <td>Cultivating Ideas for Profit</td>\n",
       "      <td>Prasanna Manogaran, Bharani C L</td>\n",
       "      <td>Angel investors</td>\n",
       "      <td>200000.0</td>\n",
       "      <td>None</td>\n",
       "      <td>None</td>\n",
       "    </tr>\n",
       "    <tr>\n",
       "      <th>1</th>\n",
       "      <td>Krayonnz</td>\n",
       "      <td>2019.0</td>\n",
       "      <td>Bangalore</td>\n",
       "      <td>EdTech</td>\n",
       "      <td>An academy-guardian-scholar centric ecosystem ...</td>\n",
       "      <td>Saurabh Dixit, Gurudutt Upadhyay</td>\n",
       "      <td>GSF Accelerator</td>\n",
       "      <td>100000.0</td>\n",
       "      <td>Pre-seed</td>\n",
       "      <td>None</td>\n",
       "    </tr>\n",
       "    <tr>\n",
       "      <th>2</th>\n",
       "      <td>PadCare Labs</td>\n",
       "      <td>2018.0</td>\n",
       "      <td>Pune</td>\n",
       "      <td>Hygiene management</td>\n",
       "      <td>Converting bio-hazardous waste to harmless waste</td>\n",
       "      <td>Ajinkya Dhariya</td>\n",
       "      <td>Venture Center</td>\n",
       "      <td>NaN</td>\n",
       "      <td>Pre-seed</td>\n",
       "      <td>None</td>\n",
       "    </tr>\n",
       "    <tr>\n",
       "      <th>3</th>\n",
       "      <td>NCOME</td>\n",
       "      <td>2020.0</td>\n",
       "      <td>New Delhi</td>\n",
       "      <td>Escrow</td>\n",
       "      <td>Escrow-as-a-service platform</td>\n",
       "      <td>Ritesh Tiwari</td>\n",
       "      <td>Venture Catalysts, PointOne Capital</td>\n",
       "      <td>400000.0</td>\n",
       "      <td>None</td>\n",
       "      <td>None</td>\n",
       "    </tr>\n",
       "    <tr>\n",
       "      <th>4</th>\n",
       "      <td>Gramophone</td>\n",
       "      <td>2016.0</td>\n",
       "      <td>Indore</td>\n",
       "      <td>AgriTech</td>\n",
       "      <td>Gramophone is an AgTech platform enabling acce...</td>\n",
       "      <td>Ashish Rajan Singh, Harshit Gupta, Nishant Mah...</td>\n",
       "      <td>Siana Capital Management, Info Edge</td>\n",
       "      <td>340000.0</td>\n",
       "      <td>None</td>\n",
       "      <td>None</td>\n",
       "    </tr>\n",
       "  </tbody>\n",
       "</table>\n",
       "</div>"
      ],
      "text/plain": [
       "  Company_Brand  Founded HeadQuarter              Sector  \\\n",
       "0    Aqgromalin   2019.0     Chennai            AgriTech   \n",
       "1      Krayonnz   2019.0   Bangalore              EdTech   \n",
       "2  PadCare Labs   2018.0        Pune  Hygiene management   \n",
       "3         NCOME   2020.0   New Delhi              Escrow   \n",
       "4    Gramophone   2016.0      Indore            AgriTech   \n",
       "\n",
       "                                        What_it_does  \\\n",
       "0                       Cultivating Ideas for Profit   \n",
       "1  An academy-guardian-scholar centric ecosystem ...   \n",
       "2   Converting bio-hazardous waste to harmless waste   \n",
       "3                       Escrow-as-a-service platform   \n",
       "4  Gramophone is an AgTech platform enabling acce...   \n",
       "\n",
       "                                            Founders  \\\n",
       "0                    Prasanna Manogaran, Bharani C L   \n",
       "1                   Saurabh Dixit, Gurudutt Upadhyay   \n",
       "2                                    Ajinkya Dhariya   \n",
       "3                                      Ritesh Tiwari   \n",
       "4  Ashish Rajan Singh, Harshit Gupta, Nishant Mah...   \n",
       "\n",
       "                              Investor    Amount     Stage column10  \n",
       "0                      Angel investors  200000.0      None     None  \n",
       "1                      GSF Accelerator  100000.0  Pre-seed     None  \n",
       "2                       Venture Center       NaN  Pre-seed     None  \n",
       "3  Venture Catalysts, PointOne Capital  400000.0      None     None  \n",
       "4  Siana Capital Management, Info Edge  340000.0      None     None  "
      ]
     },
     "execution_count": 7,
     "metadata": {},
     "output_type": "execute_result"
    }
   ],
   "source": [
    "# Call DataFrame to understand DataFrame details for 2020\n",
    "query= \"SELECT * FROM dbo.LP1_startup_funding2020\"\n",
    "data_2020 =pd.read_sql(query, connection)\n",
    "\n",
    "data_2020.head()"
   ]
  },
  {
   "cell_type": "code",
   "execution_count": 8,
   "metadata": {},
   "outputs": [
    {
     "data": {
      "text/plain": [
       "(1055, 10)"
      ]
     },
     "execution_count": 8,
     "metadata": {},
     "output_type": "execute_result"
    }
   ],
   "source": [
    "#check the shape\n",
    "data_2020.shape    "
   ]
  },
  {
   "cell_type": "code",
   "execution_count": 9,
   "metadata": {},
   "outputs": [
    {
     "data": {
      "text/html": [
       "<div>\n",
       "<style scoped>\n",
       "    .dataframe tbody tr th:only-of-type {\n",
       "        vertical-align: middle;\n",
       "    }\n",
       "\n",
       "    .dataframe tbody tr th {\n",
       "        vertical-align: top;\n",
       "    }\n",
       "\n",
       "    .dataframe thead th {\n",
       "        text-align: right;\n",
       "    }\n",
       "</style>\n",
       "<table border=\"1\" class=\"dataframe\">\n",
       "  <thead>\n",
       "    <tr style=\"text-align: right;\">\n",
       "      <th></th>\n",
       "      <th>count</th>\n",
       "      <th>mean</th>\n",
       "      <th>std</th>\n",
       "      <th>min</th>\n",
       "      <th>25%</th>\n",
       "      <th>50%</th>\n",
       "      <th>75%</th>\n",
       "      <th>max</th>\n",
       "    </tr>\n",
       "  </thead>\n",
       "  <tbody>\n",
       "    <tr>\n",
       "      <th>Founded</th>\n",
       "      <td>842.0</td>\n",
       "      <td>2.015363e+03</td>\n",
       "      <td>4.097909e+00</td>\n",
       "      <td>1973.0</td>\n",
       "      <td>2014.0</td>\n",
       "      <td>2016.0</td>\n",
       "      <td>2018.0</td>\n",
       "      <td>2.020000e+03</td>\n",
       "    </tr>\n",
       "    <tr>\n",
       "      <th>Amount</th>\n",
       "      <td>801.0</td>\n",
       "      <td>1.130430e+08</td>\n",
       "      <td>2.476635e+09</td>\n",
       "      <td>12700.0</td>\n",
       "      <td>1000000.0</td>\n",
       "      <td>3000000.0</td>\n",
       "      <td>11000000.0</td>\n",
       "      <td>7.000000e+10</td>\n",
       "    </tr>\n",
       "  </tbody>\n",
       "</table>\n",
       "</div>"
      ],
      "text/plain": [
       "         count          mean           std      min        25%        50%  \\\n",
       "Founded  842.0  2.015363e+03  4.097909e+00   1973.0     2014.0     2016.0   \n",
       "Amount   801.0  1.130430e+08  2.476635e+09  12700.0  1000000.0  3000000.0   \n",
       "\n",
       "                75%           max  \n",
       "Founded      2018.0  2.020000e+03  \n",
       "Amount   11000000.0  7.000000e+10  "
      ]
     },
     "execution_count": 9,
     "metadata": {},
     "output_type": "execute_result"
    }
   ],
   "source": [
    "# Check the description of the DataFrame\n",
    "\n",
    "data_2020.describe().T"
   ]
  },
  {
   "cell_type": "markdown",
   "metadata": {},
   "source": [
    "#### Observation\n",
    "On average founding year is around 2015, with a standard deviation of about 4.1 years indicating that the founding years are fairly concentrated around the mean (2015). This suggest that most companies were founded within a narrow time frame around 2015 in the dataset_2020."
   ]
  },
  {
   "cell_type": "code",
   "execution_count": 10,
   "metadata": {},
   "outputs": [
    {
     "name": "stdout",
     "output_type": "stream",
     "text": [
      "<class 'pandas.core.frame.DataFrame'>\n",
      "RangeIndex: 1055 entries, 0 to 1054\n",
      "Data columns (total 10 columns):\n",
      " #   Column         Non-Null Count  Dtype  \n",
      "---  ------         --------------  -----  \n",
      " 0   Company_Brand  1055 non-null   object \n",
      " 1   Founded        842 non-null    float64\n",
      " 2   HeadQuarter    961 non-null    object \n",
      " 3   Sector         1042 non-null   object \n",
      " 4   What_it_does   1055 non-null   object \n",
      " 5   Founders       1043 non-null   object \n",
      " 6   Investor       1017 non-null   object \n",
      " 7   Amount         801 non-null    float64\n",
      " 8   Stage          591 non-null    object \n",
      " 9   column10       2 non-null      object \n",
      "dtypes: float64(2), object(8)\n",
      "memory usage: 82.6+ KB\n"
     ]
    }
   ],
   "source": [
    "# check data information to understand data structure\n",
    "data_2020.info()\n"
   ]
  },
  {
   "cell_type": "markdown",
   "metadata": {},
   "source": [
    "#### Verify rate of missing values"
   ]
  },
  {
   "cell_type": "code",
   "execution_count": 11,
   "metadata": {},
   "outputs": [
    {
     "name": "stdout",
     "output_type": "stream",
     "text": [
      "               Missing Values  Percentage\n",
      "Company_Brand               0    0.000000\n",
      "Founded                   213   20.189573\n",
      "HeadQuarter                94    8.909953\n",
      "Sector                     13    1.232227\n",
      "What_it_does                0    0.000000\n",
      "Founders                   12    1.137441\n",
      "Investor                   38    3.601896\n",
      "Amount                    254   24.075829\n",
      "Stage                     464   43.981043\n",
      "column10                 1053   99.810427\n"
     ]
    }
   ],
   "source": [
    "# Calculate the number of missing values\n",
    "missing_values_count = data_2020.isna().sum()\n",
    "\n",
    "# Calculate the percentage of missing values\n",
    "missing_values_percentage = (missing_values_count / len(data_2020)) * 100\n",
    "\n",
    "# Combine the two into a DataFrame for better readability\n",
    "missing_values_summary = pd.DataFrame({\n",
    "    'Missing Values': missing_values_count,\n",
    "    'Percentage': missing_values_percentage\n",
    "})\n",
    "\n",
    "# Print the summary\n",
    "print(missing_values_summary)\n"
   ]
  },
  {
   "cell_type": "markdown",
   "metadata": {},
   "source": [
    "#### Statistical Observations on missing values\n",
    "The dataset_2020 is highly complete for **Company_Brand** and **What_it_does**, with no missing values, ensuring consistent descriptive information for each company. Conversely, the **Stage** column faces the most significant issue, with 43.98% missing values, which will hamper the ability to analyze the development stages of the companies comprehensively. However, there are only minimal missing data in the **Sector**, **Founders**, and **Investor** columns (1.23%, 1.14%, and 3.60% respectively)."
   ]
  },
  {
   "cell_type": "code",
   "execution_count": 12,
   "metadata": {},
   "outputs": [
    {
     "name": "stdout",
     "output_type": "stream",
     "text": [
      "Missing Values Summary:\n",
      "                Missing Values  Percentage\n",
      "Company_Brand               0    0.000000\n",
      "Founded                   213   20.189573\n",
      "HeadQuarter                94    8.909953\n",
      "Sector                     13    1.232227\n",
      "What_it_does                0    0.000000\n",
      "Founders                   12    1.137441\n",
      "Investor                   38    3.601896\n",
      "Amount                    254   24.075829\n",
      "Stage                     464   43.981043\n",
      "column10                 1053   99.810427\n"
     ]
    }
   ],
   "source": [
    "#Import relevant package\n",
    "from sklearn.impute import SimpleImputer\n",
    "\n",
    "# Calculate the count and percentage of missing values for each column\n",
    "missing_values_count = data_2020.isna().sum()\n",
    "missing_values_percentage = (missing_values_count / len(data_2020)) * 100\n",
    "\n",
    "# Combine the count and percentage into a DataFrame for better readability\n",
    "missing_values_summary = pd.DataFrame({\n",
    "    'Missing Values': missing_values_count,\n",
    "    'Percentage': missing_values_percentage\n",
    "})\n",
    "\n",
    "# Print the missing values summary\n",
    "print(\"Missing Values Summary:\\n\", missing_values_summary)\n",
    "\n",
    "# Define a function to replace string 'None' with 'Undisclosed' in specified columns\n",
    "def replace_none_with_undisclosed(df, columns):\n",
    "    for column in columns:\n",
    "        # Replace 'None' with 'Undisclosed'\n",
    "        df[column] = df[column].astype(str).replace('None', 'Undisclosed')\n",
    "    return df\n",
    "\n",
    "# Apply the function to the relevant columns to standardize missing data representation\n",
    "columns_to_replace = ['HeadQuarter', 'Stage', 'Sector', 'Founders', 'Investor']\n",
    "data_2020 = replace_none_with_undisclosed(data_2020, columns_to_replace)\n",
    "\n",
    "# Create a SimpleImputer object to fill 'Undisclosed' values with the most frequent value\n",
    "categorical_imputer = SimpleImputer(strategy='most_frequent')\n",
    "\n",
    "# Apply the imputer to fill 'Undisclosed' values in the specified categorical columns\n",
    "data_2020[columns_to_replace] = categorical_imputer.fit_transform(data_2020[columns_to_replace])\n",
    "\n",
    "# Create a SimpleImputer object for numerical columns 'Founded' and 'Amount' using the mean strategy\n",
    "numerical_columns = ['Founded', 'Amount']\n",
    "numerical_imputer = SimpleImputer(strategy='mean')\n",
    "\n",
    "# Apply the imputer to fill missing values in the numerical columns\n",
    "data_2020[numerical_columns] = numerical_imputer.fit_transform(data_2020[numerical_columns])\n",
    "\n",
    "\n",
    "# Verify the changes by printing the updated missing values summary\n",
    "missing_values_count_updated = data_2020.isna().sum()\n",
    "missing_values_summary_updated = pd.DataFrame({\n",
    "    'Missing Values': missing_values_count_updated,\n",
    "    'Percentage': (missing_values_count_updated / len(data_2020)) * 100\n",
    "})\n",
    "\n",
    "\n"
   ]
  },
  {
   "cell_type": "markdown",
   "metadata": {},
   "source": [
    "#### Verify duplicates values"
   ]
  },
  {
   "cell_type": "code",
   "execution_count": 13,
   "metadata": {},
   "outputs": [
    {
     "name": "stdout",
     "output_type": "stream",
     "text": [
      "Number of duplicate rows: 3\n",
      "Duplicate rows:\n",
      "    Company_Brand  Founded HeadQuarter                 Sector  \\\n",
      "145     Krimanshi   2015.0     Jodhpur  Biotechnology company   \n",
      "205         Nykaa   2012.0      Mumbai              Cosmetics   \n",
      "362        Byju’s   2011.0   Bangalore                 EdTech   \n",
      "\n",
      "                                          What_it_does         Founders  \\\n",
      "145  Krimanshi aims to increase rural income by imp...     Nikhil Bohra   \n",
      "205  Nykaa is an online marketplace for different b...    Falguni Nayar   \n",
      "362  An Indian educational technology and online tu...  Byju Raveendran   \n",
      "\n",
      "                                           Investor        Amount  \\\n",
      "145  Rajasthan Venture Capital Fund, AIM Smart City  6.000000e+05   \n",
      "205                        Alia Bhatt, Katrina Kaif  1.130430e+08   \n",
      "362           Owl Ventures, Tiger Global Management  5.000000e+08   \n",
      "\n",
      "           Stage column10  \n",
      "145         Seed     None  \n",
      "205  Undisclosed     None  \n",
      "362  Undisclosed     None  \n",
      "Number of rows before removing duplicates: 1055\n",
      "Number of rows after removing duplicates: 1052\n"
     ]
    }
   ],
   "source": [
    "# Check for duplicate rows\n",
    "duplicates = data_2020.duplicated()\n",
    "\n",
    "# Count duplicate rows\n",
    "num_duplicates = duplicates.sum()\n",
    "print(f\"Number of duplicate rows: {num_duplicates}\")\n",
    "\n",
    "# Print duplicate rows\n",
    "duplicate_rows = data_2020[duplicates]\n",
    "print(\"Duplicate rows:\")\n",
    "print(duplicate_rows)\n",
    "\n",
    "# Drop duplicate rows\n",
    "data_2020_cleaned = data_2020.drop_duplicates()\n",
    "\n",
    "# Display the number of rows before and after removing duplicates\n",
    "print(f\"Number of rows before removing duplicates: {data_2020.shape[0]}\")\n",
    "print(f\"Number of rows after removing duplicates: {data_2020_cleaned.shape[0]}\")\n"
   ]
  },
  {
   "cell_type": "code",
   "execution_count": 14,
   "metadata": {},
   "outputs": [
    {
     "name": "stdout",
     "output_type": "stream",
     "text": [
      "<class 'pandas.core.frame.DataFrame'>\n",
      "Index: 1052 entries, 0 to 1054\n",
      "Data columns (total 10 columns):\n",
      " #   Column         Non-Null Count  Dtype  \n",
      "---  ------         --------------  -----  \n",
      " 0   Company_Brand  1052 non-null   object \n",
      " 1   Founded        1052 non-null   float64\n",
      " 2   HeadQuarter    1052 non-null   object \n",
      " 3   Sector         1052 non-null   object \n",
      " 4   What_it_does   1052 non-null   object \n",
      " 5   Founders       1052 non-null   object \n",
      " 6   Investor       1052 non-null   object \n",
      " 7   Amount         1052 non-null   float64\n",
      " 8   Stage          1052 non-null   object \n",
      " 9   column10       2 non-null      object \n",
      "dtypes: float64(2), object(8)\n",
      "memory usage: 90.4+ KB\n"
     ]
    }
   ],
   "source": [
    "#Verify data information and structure    \n",
    "data_2020_cleaned.info()"
   ]
  },
  {
   "cell_type": "markdown",
   "metadata": {},
   "source": [
    "## Data_2021 Manipulation"
   ]
  },
  {
   "cell_type": "code",
   "execution_count": 15,
   "metadata": {},
   "outputs": [
    {
     "data": {
      "text/html": [
       "<div>\n",
       "<style scoped>\n",
       "    .dataframe tbody tr th:only-of-type {\n",
       "        vertical-align: middle;\n",
       "    }\n",
       "\n",
       "    .dataframe tbody tr th {\n",
       "        vertical-align: top;\n",
       "    }\n",
       "\n",
       "    .dataframe thead th {\n",
       "        text-align: right;\n",
       "    }\n",
       "</style>\n",
       "<table border=\"1\" class=\"dataframe\">\n",
       "  <thead>\n",
       "    <tr style=\"text-align: right;\">\n",
       "      <th></th>\n",
       "      <th>Company_Brand</th>\n",
       "      <th>Founded</th>\n",
       "      <th>HeadQuarter</th>\n",
       "      <th>Sector</th>\n",
       "      <th>What_it_does</th>\n",
       "      <th>Founders</th>\n",
       "      <th>Investor</th>\n",
       "      <th>Amount</th>\n",
       "      <th>Stage</th>\n",
       "    </tr>\n",
       "  </thead>\n",
       "  <tbody>\n",
       "    <tr>\n",
       "      <th>0</th>\n",
       "      <td>Unbox Robotics</td>\n",
       "      <td>2019.0</td>\n",
       "      <td>Bangalore</td>\n",
       "      <td>AI startup</td>\n",
       "      <td>Unbox Robotics builds on-demand AI-driven ware...</td>\n",
       "      <td>Pramod Ghadge, Shahid Memon</td>\n",
       "      <td>BEENEXT, Entrepreneur First</td>\n",
       "      <td>$1,200,000</td>\n",
       "      <td>Pre-series A</td>\n",
       "    </tr>\n",
       "    <tr>\n",
       "      <th>1</th>\n",
       "      <td>upGrad</td>\n",
       "      <td>2015.0</td>\n",
       "      <td>Mumbai</td>\n",
       "      <td>EdTech</td>\n",
       "      <td>UpGrad is an online higher education platform.</td>\n",
       "      <td>Mayank Kumar, Phalgun Kompalli, Ravijot Chugh,...</td>\n",
       "      <td>Unilazer Ventures, IIFL Asset Management</td>\n",
       "      <td>$120,000,000</td>\n",
       "      <td>None</td>\n",
       "    </tr>\n",
       "    <tr>\n",
       "      <th>2</th>\n",
       "      <td>Lead School</td>\n",
       "      <td>2012.0</td>\n",
       "      <td>Mumbai</td>\n",
       "      <td>EdTech</td>\n",
       "      <td>LEAD School offers technology based school tra...</td>\n",
       "      <td>Smita Deorah, Sumeet Mehta</td>\n",
       "      <td>GSV Ventures, Westbridge Capital</td>\n",
       "      <td>$30,000,000</td>\n",
       "      <td>Series D</td>\n",
       "    </tr>\n",
       "    <tr>\n",
       "      <th>3</th>\n",
       "      <td>Bizongo</td>\n",
       "      <td>2015.0</td>\n",
       "      <td>Mumbai</td>\n",
       "      <td>B2B E-commerce</td>\n",
       "      <td>Bizongo is a business-to-business online marke...</td>\n",
       "      <td>Aniket Deb, Ankit Tomar, Sachin Agrawal</td>\n",
       "      <td>CDC Group, IDG Capital</td>\n",
       "      <td>$51,000,000</td>\n",
       "      <td>Series C</td>\n",
       "    </tr>\n",
       "    <tr>\n",
       "      <th>4</th>\n",
       "      <td>FypMoney</td>\n",
       "      <td>2021.0</td>\n",
       "      <td>Gurugram</td>\n",
       "      <td>FinTech</td>\n",
       "      <td>FypMoney is Digital NEO Bank for Teenagers, em...</td>\n",
       "      <td>Kapil Banwari</td>\n",
       "      <td>Liberatha Kallat, Mukesh Yadav, Dinesh Nagpal</td>\n",
       "      <td>$2,000,000</td>\n",
       "      <td>Seed</td>\n",
       "    </tr>\n",
       "  </tbody>\n",
       "</table>\n",
       "</div>"
      ],
      "text/plain": [
       "    Company_Brand  Founded HeadQuarter          Sector  \\\n",
       "0  Unbox Robotics   2019.0   Bangalore      AI startup   \n",
       "1          upGrad   2015.0      Mumbai          EdTech   \n",
       "2     Lead School   2012.0      Mumbai          EdTech   \n",
       "3         Bizongo   2015.0      Mumbai  B2B E-commerce   \n",
       "4        FypMoney   2021.0    Gurugram         FinTech   \n",
       "\n",
       "                                        What_it_does  \\\n",
       "0  Unbox Robotics builds on-demand AI-driven ware...   \n",
       "1     UpGrad is an online higher education platform.   \n",
       "2  LEAD School offers technology based school tra...   \n",
       "3  Bizongo is a business-to-business online marke...   \n",
       "4  FypMoney is Digital NEO Bank for Teenagers, em...   \n",
       "\n",
       "                                            Founders  \\\n",
       "0                        Pramod Ghadge, Shahid Memon   \n",
       "1  Mayank Kumar, Phalgun Kompalli, Ravijot Chugh,...   \n",
       "2                         Smita Deorah, Sumeet Mehta   \n",
       "3            Aniket Deb, Ankit Tomar, Sachin Agrawal   \n",
       "4                                      Kapil Banwari   \n",
       "\n",
       "                                        Investor        Amount         Stage  \n",
       "0                    BEENEXT, Entrepreneur First    $1,200,000  Pre-series A  \n",
       "1       Unilazer Ventures, IIFL Asset Management  $120,000,000          None  \n",
       "2               GSV Ventures, Westbridge Capital   $30,000,000      Series D  \n",
       "3                         CDC Group, IDG Capital   $51,000,000      Series C  \n",
       "4  Liberatha Kallat, Mukesh Yadav, Dinesh Nagpal    $2,000,000          Seed  "
      ]
     },
     "execution_count": 15,
     "metadata": {},
     "output_type": "execute_result"
    }
   ],
   "source": [
    "# Call DataFrame to understand DataFrame details for 2021.\n",
    "query= \"SELECT * FROM dbo.LP1_startup_funding2021\"\n",
    "data_2021 =pd.read_sql(query, connection)\n",
    "\n",
    "data_2021.head()"
   ]
  },
  {
   "cell_type": "code",
   "execution_count": 16,
   "metadata": {},
   "outputs": [
    {
     "data": {
      "text/plain": [
       "(1209, 9)"
      ]
     },
     "execution_count": 16,
     "metadata": {},
     "output_type": "execute_result"
    }
   ],
   "source": [
    "#check the shape\n",
    "data_2021.shape    "
   ]
  },
  {
   "cell_type": "code",
   "execution_count": 17,
   "metadata": {},
   "outputs": [
    {
     "name": "stdout",
     "output_type": "stream",
     "text": [
      "<class 'pandas.core.frame.DataFrame'>\n",
      "RangeIndex: 1209 entries, 0 to 1208\n",
      "Data columns (total 9 columns):\n",
      " #   Column         Non-Null Count  Dtype  \n",
      "---  ------         --------------  -----  \n",
      " 0   Company_Brand  1209 non-null   object \n",
      " 1   Founded        1208 non-null   float64\n",
      " 2   HeadQuarter    1208 non-null   object \n",
      " 3   Sector         1209 non-null   object \n",
      " 4   What_it_does   1209 non-null   object \n",
      " 5   Founders       1205 non-null   object \n",
      " 6   Investor       1147 non-null   object \n",
      " 7   Amount         1206 non-null   object \n",
      " 8   Stage          781 non-null    object \n",
      "dtypes: float64(1), object(8)\n",
      "memory usage: 85.1+ KB\n"
     ]
    }
   ],
   "source": [
    "# check data information and structure\n",
    "data_2021.info()"
   ]
  },
  {
   "cell_type": "markdown",
   "metadata": {},
   "source": [
    "#### Observation\n",
    "The 'Amount' column, which represents financial figures, is currently of type object, indicating it contains string data."
   ]
  },
  {
   "cell_type": "markdown",
   "metadata": {},
   "source": [
    "### Investigate Why Amount Dtype is object instead of float"
   ]
  },
  {
   "cell_type": "code",
   "execution_count": 18,
   "metadata": {},
   "outputs": [
    {
     "name": "stdout",
     "output_type": "stream",
     "text": [
      "0         $1,200,000\n",
      "1       $120,000,000\n",
      "2        $30,000,000\n",
      "3        $51,000,000\n",
      "4         $2,000,000\n",
      "            ...     \n",
      "1204        $3000000\n",
      "1205       $20000000\n",
      "1206       $55000000\n",
      "1207       $26000000\n",
      "1208        $8000000\n",
      "Name: Amount, Length: 1209, dtype: object\n"
     ]
    }
   ],
   "source": [
    "# Display the 'Amount' column\n",
    "'''The currency symbol is a contributing factor to wrong Dtype instead of float'''\n",
    "\n",
    "print(data_2021['Amount'])"
   ]
  },
  {
   "cell_type": "code",
   "execution_count": 19,
   "metadata": {},
   "outputs": [
    {
     "name": "stdout",
     "output_type": "stream",
     "text": [
      "0         1200000\n",
      "1       120000000\n",
      "2        30000000\n",
      "3        51000000\n",
      "4         2000000\n",
      "          ...    \n",
      "1204      3000000\n",
      "1205     20000000\n",
      "1206     55000000\n",
      "1207     26000000\n",
      "1208      8000000\n",
      "Name: Amount, Length: 1209, dtype: object\n"
     ]
    }
   ],
   "source": [
    "# Removing dollar signs and commas\n",
    "data_2021['Amount'] = data_2021['Amount'].str.replace('[\\$,]', '', regex=True)\n",
    "\n",
    "# Display the 'Amount' column\n",
    "print(data_2021['Amount'])"
   ]
  },
  {
   "cell_type": "code",
   "execution_count": 20,
   "metadata": {},
   "outputs": [
    {
     "data": {
      "text/plain": [
       "0       False\n",
       "1       False\n",
       "2       False\n",
       "3       False\n",
       "4       False\n",
       "        ...  \n",
       "1204    False\n",
       "1205    False\n",
       "1206    False\n",
       "1207    False\n",
       "1208    False\n",
       "Name: Amount, Length: 1209, dtype: bool"
      ]
     },
     "execution_count": 20,
     "metadata": {},
     "output_type": "execute_result"
    }
   ],
   "source": [
    "# Confirm if all values under Amount are all numeric\n",
    "data_2021['Amount'].apply(lambda x: isinstance(x, str) and not x.replace(',', '').replace('$', '').isdigit())\n"
   ]
  },
  {
   "cell_type": "code",
   "execution_count": 21,
   "metadata": {},
   "outputs": [
    {
     "name": "stdout",
     "output_type": "stream",
     "text": [
      "              Company_Brand  Founded HeadQuarter                    Sector  \\\n",
      "7               Qube Health   2016.0      Mumbai                HealthTech   \n",
      "8                  Vitra.ai   2020.0   Bangalore              Tech Startup   \n",
      "21                    Uable   2020.0   Bangalore                    EdTech   \n",
      "39                 TruNativ   2019.0      Mumbai          Food & Beverages   \n",
      "54                   AntWak   2019.0   Bangalore                    EdTech   \n",
      "...                     ...      ...         ...                       ...   \n",
      "1148              Godamwale   2016.0      Mumbai  Logistics & Supply Chain   \n",
      "1160  Atomberg Technologies   2012.0      Mumbai      Consumer Electronics   \n",
      "1161        Genext Students   2013.0      Mumbai                    EdTech   \n",
      "1166              OckyPocky   2015.0    Gurugram                    EdTech   \n",
      "1193        Sapio Analytics   2019.0      Mumbai         Computer Software   \n",
      "\n",
      "                                           What_it_does  \\\n",
      "7     India's Most Respected Workplace Healthcare Ma...   \n",
      "8     Vitra.ai is an AI-based video translation plat...   \n",
      "21    Uable offers role based programmes to empower ...   \n",
      "39                   TruNativ Foods & Beverages Pvt Ltd   \n",
      "54    AntWak provides a video platform for e-learnin...   \n",
      "...                                                 ...   \n",
      "1148  Godamwale is tech enabled integrated logistics...   \n",
      "1160             A maker of energy-efficient smart fans   \n",
      "1161  LIVE online classes with expert tutors for K-1...   \n",
      "1166  OckyPocky is India's 1st interactive English l...   \n",
      "1193  Sapio helps government create policies driven ...   \n",
      "\n",
      "                                               Founders  \\\n",
      "7                                           Gagan Kapur   \n",
      "8                                        Akash Nidhi PS   \n",
      "21                                       Saurabh Saxena   \n",
      "39                      Pranav Malhotra, Mamta Malhotra   \n",
      "54    Basav Nagur, Joybroto Ganguly, Sudhanshu Shekh...   \n",
      "...                                                 ...   \n",
      "1148          Basant Kumar, Vivek Tiwari, Ranbir Nandan   \n",
      "1160                         Manoj Meena, Sibabrata Das   \n",
      "1161                    Ali Asgar Kagzi, Piyush Dhanuka   \n",
      "1166                                       Amit Agrawal   \n",
      "1193  Hardik Somani, Ashwin Srivastava, Shripal Jain...   \n",
      "\n",
      "                                   Investor       Amount         Stage  \n",
      "7                 Inflection Point Ventures  Undisclosed  Pre-series A  \n",
      "8                         Inflexor Ventures  Undisclosed          None  \n",
      "21            Chiratae Ventures, JAFCO Asia  Undisclosed          Seed  \n",
      "39                                9Unicorns  Undisclosed          Seed  \n",
      "54           Vaibhav Domkundwar, Kunal Shah  Undisclosed          Seed  \n",
      "...                                     ...          ...           ...  \n",
      "1148                         1000000\\t#REF!         Seed          None  \n",
      "1160                         Ka Enterprises  Undisclosed          None  \n",
      "1161                      Navneet Education  Undisclosed          None  \n",
      "1166  Sujeet Kumar, SucSEED Indovation Fund  Undisclosed          Seed  \n",
      "1193            Rachit Poddar, Rajesh Gupta  Undisclosed          None  \n",
      "\n",
      "[150 rows x 9 columns]\n"
     ]
    }
   ],
   "source": [
    "# Filter Non-Numeric Values:\n",
    "non_numeric_rows=data_2021[data_2021['Amount'].apply(lambda x: isinstance(x, str) and not x.replace(',', '').replace('$', '').isdigit())]\n",
    "\n",
    "print(non_numeric_rows)\n"
   ]
  },
  {
   "cell_type": "markdown",
   "metadata": {},
   "source": [
    "#### Amount Observation\n",
    "The column Amount still contains non-numeric values with undesclosed amount in some rows, hence the reason for object Dtype instead of float"
   ]
  },
  {
   "cell_type": "code",
   "execution_count": 22,
   "metadata": {},
   "outputs": [
    {
     "name": "stdout",
     "output_type": "stream",
     "text": [
      "Non-numeric values after replacing 'Undisclosed':\n",
      "0         1200000\n",
      "1       120000000\n",
      "2        30000000\n",
      "3        51000000\n",
      "4         2000000\n",
      "          ...    \n",
      "1204      3000000\n",
      "1205     20000000\n",
      "1206     55000000\n",
      "1207     26000000\n",
      "1208      8000000\n",
      "Name: Amount, Length: 1093, dtype: object\n"
     ]
    }
   ],
   "source": [
    "# Replace \"Undisclosed\" with NaN in the 'Amount' column\n",
    "data_2021['Amount'] = data_2021['Amount'].replace('Undisclosed', np.nan)\n",
    "\n",
    "# Filter non-numeric values in the 'Amount' column\n",
    "non_numeric_values = data_2021[~data_2021['Amount'].apply(lambda x: isinstance(x, (int, float)))]['Amount']\n",
    "\n",
    "\n",
    "'''Print to confirm after replacing Undisclosed amount with NaN the right Dtype\n",
    "Resurlt still indicate the wrong dtype and needs to be investigated further'''\n",
    "\n",
    "# Print non-numeric values\n",
    "print(\"Non-numeric values after replacing 'Undisclosed':\")\n",
    "print(non_numeric_values)"
   ]
  },
  {
   "cell_type": "markdown",
   "metadata": {},
   "source": [
    "#### Further investigation on the 'Amount' column"
   ]
  },
  {
   "cell_type": "code",
   "execution_count": 23,
   "metadata": {},
   "outputs": [
    {
     "name": "stdout",
     "output_type": "stream",
     "text": [
      "Non-numeric values after replacing 'Undisclosed':\n",
      "['1200000' '120000000' '30000000' '51000000' '2000000' '188000000'\n",
      " '200000' '1000000' '3000000' '100000' '700000' '9000000' '40000000'\n",
      " '49000000' '400000' '300000' '25000000' '160000000' '150000' '1800000'\n",
      " '5000000' '850000' '53000000' '500000' '1100000' '6000000' '800000'\n",
      " '10000000' '21000000' '7500000' '26000000' '7400000' '1500000' '600000'\n",
      " '800000000' '17000000' '3500000' '15000000' '215000000' '2500000'\n",
      " '350000000' '5500000' '83000000' '110000000' '500000000' '65000000'\n",
      " '150000000000' '300000000' '2200000' '35000000' '140000000' '4000000'\n",
      " '13000000' None '9500000' '8000000' 'Upsparks' '12000000' '1700000'\n",
      " '150000000' '100000000' '225000000' '6700000' '1300000' '20000000'\n",
      " '250000' '52000000' '3800000' '17500000' '42000000' '2300000' '7000000'\n",
      " '450000000' '28000000' '8500000' '37000000' '370000000' '16000000'\n",
      " '44000000' '770000' '125000000' '50000000' '4900000' '145000000'\n",
      " '22000000' '70000000' '6600000' '32000000' '24000000' '725000' '461000'\n",
      " 'Series C' 'Seed' '96000000' '60000000' '266000000' '4500000' '325000000'\n",
      " '6500000' '1600000' '225000' '85000000' '235000' '260000' '2900000'\n",
      " '86000000' '130000' '10000' '111000000' '265000' '76000000' '75000000'\n",
      " '1000000000' '18000000' '350000' '95000000' '4100000' '5200000' '1400000'\n",
      " '2600000' '900000' '11000000' '280000000' '14300000' '81000000' '8200000'\n",
      " '720000' '330000' 'undisclosed' '200000000' '36000000' '67000000'\n",
      " '10200000' '220000000' '108000000' '450000' '660000000' 'ah! Ventures'\n",
      " '45000000' '3200000' '370000' 'Pre-series A'\n",
      " 'ITO Angel Network LetsVenture' '48000000' '3600000' '192000000'\n",
      " '1900000' '41000000' '144000000' '270000000' '140000' '250000000'\n",
      " '320000' '4800000' '38000000' '125000' '64000000' '620000'\n",
      " 'JITO Angel Network LetsVenture' '1250000' '400000000' '27000000'\n",
      " '234000000' '460000000' '13500000' '5100000' '195000000' '7300000'\n",
      " '6300000' '12500000' '16500000' '340000' '43000000' '3300000' '92000000'\n",
      " '135000000' '155000' '2100000' '840000000' '248000000' '4300000' '570000'\n",
      " '4700000' '260000000' '175000000' '19000000' '810000' '600000000'\n",
      " '90000000' '5700000' '6750000' '78000000' '5400000' '115000000'\n",
      " '255000000' '570000000' '550000' '2700000' '4200000' '31000000' '540000'\n",
      " '14000000' '' '6200000' '750000' '23000000' '55000000']\n"
     ]
    }
   ],
   "source": [
    "# Print unique non-numeric values, if any\n",
    "if not non_numeric_values.empty:\n",
    "    print(\"Non-numeric values after replacing 'Undisclosed':\")\n",
    "    print(non_numeric_values.unique())\n",
    "else:\n",
    "    print(\"No non-numeric values found after replacing 'Undisclosed'.\")"
   ]
  },
  {
   "cell_type": "markdown",
   "metadata": {},
   "source": [
    "#### its observed some numeric values are encoded as strings with some few non-numeric values"
   ]
  },
  {
   "cell_type": "markdown",
   "metadata": {},
   "source": [
    "#### Convert numeric string to numeric values"
   ]
  },
  {
   "cell_type": "code",
   "execution_count": 24,
   "metadata": {},
   "outputs": [
    {
     "name": "stdout",
     "output_type": "stream",
     "text": [
      "       Company_Brand  Founded HeadQuarter                 Sector  \\\n",
      "0     Unbox Robotics   2019.0   Bangalore             AI startup   \n",
      "1             upGrad   2015.0      Mumbai                 EdTech   \n",
      "2        Lead School   2012.0      Mumbai                 EdTech   \n",
      "3            Bizongo   2015.0      Mumbai         B2B E-commerce   \n",
      "4           FypMoney   2021.0    Gurugram                FinTech   \n",
      "...              ...      ...         ...                    ...   \n",
      "1204        Gigforce   2019.0    Gurugram  Staffing & Recruiting   \n",
      "1205          Vahdam   2015.0   New Delhi       Food & Beverages   \n",
      "1206    Leap Finance   2019.0   Bangalore     Financial Services   \n",
      "1207    CollegeDekho   2015.0    Gurugram                 EdTech   \n",
      "1208          WeRize   2019.0   Bangalore     Financial Services   \n",
      "\n",
      "                                           What_it_does  \\\n",
      "0     Unbox Robotics builds on-demand AI-driven ware...   \n",
      "1        UpGrad is an online higher education platform.   \n",
      "2     LEAD School offers technology based school tra...   \n",
      "3     Bizongo is a business-to-business online marke...   \n",
      "4     FypMoney is Digital NEO Bank for Teenagers, em...   \n",
      "...                                                 ...   \n",
      "1204                  A gig/on-demand staffing company.   \n",
      "1205  VAHDAM is among the world’s first vertically i...   \n",
      "1206  International education loans for high potenti...   \n",
      "1207  Collegedekho.com is Student’s Partner, Friend ...   \n",
      "1208  India’s first socially distributed full stack ...   \n",
      "\n",
      "                                               Founders  \\\n",
      "0                           Pramod Ghadge, Shahid Memon   \n",
      "1     Mayank Kumar, Phalgun Kompalli, Ravijot Chugh,...   \n",
      "2                            Smita Deorah, Sumeet Mehta   \n",
      "3               Aniket Deb, Ankit Tomar, Sachin Agrawal   \n",
      "4                                         Kapil Banwari   \n",
      "...                                                 ...   \n",
      "1204                        Chirag Mittal, Anirudh Syal   \n",
      "1205                                         Bala Sarda   \n",
      "1206                         Arnav Kumar, Vaibhav Singh   \n",
      "1207                                       Ruchir Arora   \n",
      "1208                      Vishal Chopra, Himanshu Gupta   \n",
      "\n",
      "                                           Investor       Amount         Stage  \n",
      "0                       BEENEXT, Entrepreneur First    1200000.0  Pre-series A  \n",
      "1          Unilazer Ventures, IIFL Asset Management  120000000.0          None  \n",
      "2                  GSV Ventures, Westbridge Capital   30000000.0      Series D  \n",
      "3                            CDC Group, IDG Capital   51000000.0      Series C  \n",
      "4     Liberatha Kallat, Mukesh Yadav, Dinesh Nagpal    2000000.0          Seed  \n",
      "...                                             ...          ...           ...  \n",
      "1204                                Endiya Partners    3000000.0  Pre-series A  \n",
      "1205                                       IIFL AMC   20000000.0      Series D  \n",
      "1206                                   Owl Ventures   55000000.0      Series C  \n",
      "1207               Winter Capital, ETS, Man Capital   26000000.0      Series B  \n",
      "1208                 3one4 Capital, Kalaari Capital    8000000.0      Series A  \n",
      "\n",
      "[1209 rows x 9 columns]\n"
     ]
    }
   ],
   "source": [
    "# Define function to convert numeric strings to numeric values\n",
    "def convert_to_numeric(value):\n",
    "    try:\n",
    "        return float(value)\n",
    "    except (ValueError, TypeError):\n",
    "        return np.nan\n",
    "\n",
    "# Replace numeric strings with their corresponding numeric values\n",
    "data_2021['Amount'] = data_2021['Amount'].apply(convert_to_numeric)\n",
    "\n",
    "# Print the modified DataFrame\n",
    "print(data_2021)"
   ]
  },
  {
   "cell_type": "markdown",
   "metadata": {},
   "source": [
    "#### Verify the right dtype conversion on Amount "
   ]
  },
  {
   "cell_type": "code",
   "execution_count": 25,
   "metadata": {},
   "outputs": [
    {
     "name": "stdout",
     "output_type": "stream",
     "text": [
      "Data type of 'Amount' column: float64\n"
     ]
    }
   ],
   "source": [
    "# Check and print the data type of the 'Amount' column\n",
    "print(\"Data type of 'Amount' column:\", data_2021['Amount'].dtype)"
   ]
  },
  {
   "cell_type": "code",
   "execution_count": 26,
   "metadata": {},
   "outputs": [
    {
     "name": "stdout",
     "output_type": "stream",
     "text": [
      "<class 'pandas.core.frame.DataFrame'>\n",
      "RangeIndex: 1209 entries, 0 to 1208\n",
      "Data columns (total 9 columns):\n",
      " #   Column         Non-Null Count  Dtype  \n",
      "---  ------         --------------  -----  \n",
      " 0   Company_Brand  1209 non-null   object \n",
      " 1   Founded        1208 non-null   float64\n",
      " 2   HeadQuarter    1208 non-null   object \n",
      " 3   Sector         1209 non-null   object \n",
      " 4   What_it_does   1209 non-null   object \n",
      " 5   Founders       1205 non-null   object \n",
      " 6   Investor       1147 non-null   object \n",
      " 7   Amount         1056 non-null   float64\n",
      " 8   Stage          781 non-null    object \n",
      "dtypes: float64(2), object(7)\n",
      "memory usage: 85.1+ KB\n"
     ]
    }
   ],
   "source": [
    "# Confirm data quality and consistency in Dtype conversion\n",
    "data_2021.info()"
   ]
  },
  {
   "cell_type": "markdown",
   "metadata": {},
   "source": [
    "#### Handle Missing values in data_2021"
   ]
  },
  {
   "cell_type": "code",
   "execution_count": 27,
   "metadata": {},
   "outputs": [
    {
     "name": "stdout",
     "output_type": "stream",
     "text": [
      "               Missing Values  Percentage\n",
      "Company_Brand               0    0.000000\n",
      "Founded                     1    0.082713\n",
      "HeadQuarter                 1    0.082713\n",
      "Sector                      0    0.000000\n",
      "What_it_does                0    0.000000\n",
      "Founders                    4    0.330852\n",
      "Investor                   62    5.128205\n",
      "Amount                    153   12.655087\n",
      "Stage                     428   35.401158\n"
     ]
    }
   ],
   "source": [
    "# Calculate missing values and their percentage\n",
    "missing_values = data_2021.isnull().sum()\n",
    "missing_percentage = (missing_values / len(data_2021)) * 100\n",
    "\n",
    "# Print missing values with percentage\n",
    "missing_info = pd.DataFrame({'Missing Values': missing_values, 'Percentage': missing_percentage})\n",
    "print(missing_info)\n"
   ]
  },
  {
   "cell_type": "markdown",
   "metadata": {},
   "source": [
    "By observation, very little values are missing in all the columns, exception the column Stage with 35.40% missing values compared to the rest which has over 80% of its  values entered.\n",
    "\n",
    "Rows with missing values less than 15% will be dropped to ensure data integrity and maintain a high-quality dataset. For columns with missing values exceeding 15%, such as the 'Stage' column with a substantial 35.40% missing values, will be populated rather than drop them outright. The decision is made to retain as much data as possible while still ensuring that the 'Stage' information, despite its high rate of missingness, is available for analysis.\n",
    "\n",
    "\n",
    "\n",
    "\n",
    "\n"
   ]
  },
  {
   "cell_type": "code",
   "execution_count": 28,
   "metadata": {},
   "outputs": [
    {
     "name": "stdout",
     "output_type": "stream",
     "text": [
      "<class 'pandas.core.frame.DataFrame'>\n",
      "Index: 994 entries, 0 to 1208\n",
      "Data columns (total 9 columns):\n",
      " #   Column         Non-Null Count  Dtype  \n",
      "---  ------         --------------  -----  \n",
      " 0   Company_Brand  994 non-null    object \n",
      " 1   Founded        994 non-null    float64\n",
      " 2   HeadQuarter    994 non-null    object \n",
      " 3   Sector         994 non-null    object \n",
      " 4   What_it_does   994 non-null    object \n",
      " 5   Founders       994 non-null    object \n",
      " 6   Investor       994 non-null    object \n",
      " 7   Amount         994 non-null    float64\n",
      " 8   Stage          664 non-null    object \n",
      "dtypes: float64(2), object(7)\n",
      "memory usage: 77.7+ KB\n"
     ]
    }
   ],
   "source": [
    "from sklearn.impute import SimpleImputer\n",
    "\n",
    "# Identify columns with missing values less than 15%\n",
    "columns_to_drop = data_2021.columns[data_2021.isnull().sum() / len(data_2021) < 0.15]\n",
    "\n",
    "# Drop rows with missing values in those columns\n",
    "data_2021_dropped = data_2021.dropna(subset=columns_to_drop)\n",
    "\n",
    "# Fill missing values in the 'Stage' column with mode\n",
    "stage_imputer = SimpleImputer(strategy='most_frequent')\n",
    "data_2021_dropped['Stage'] = stage_imputer.fit_transform(data_2021_dropped[['Stage']]).ravel()  # Flatten the 2D array\n",
    "\n",
    "# Verify the changes\n",
    "data_2021_dropped.info()\n"
   ]
  },
  {
   "cell_type": "markdown",
   "metadata": {},
   "source": [
    "#### Check for duplicates"
   ]
  },
  {
   "cell_type": "code",
   "execution_count": 29,
   "metadata": {},
   "outputs": [
    {
     "name": "stdout",
     "output_type": "stream",
     "text": [
      "Number of duplicate rows: 15\n"
     ]
    }
   ],
   "source": [
    "# Check the number of duplicate rows\n",
    "num_duplicates = data_2021_dropped.duplicated().sum()\n",
    "\n",
    "# Print the number of duplicate rows\n",
    "print(\"Number of duplicate rows:\", num_duplicates)"
   ]
  },
  {
   "cell_type": "code",
   "execution_count": 30,
   "metadata": {},
   "outputs": [
    {
     "name": "stdout",
     "output_type": "stream",
     "text": [
      "<class 'pandas.core.frame.DataFrame'>\n",
      "Index: 654 entries, 0 to 1208\n",
      "Data columns (total 9 columns):\n",
      " #   Column         Non-Null Count  Dtype  \n",
      "---  ------         --------------  -----  \n",
      " 0   Company_Brand  654 non-null    object \n",
      " 1   Founded        654 non-null    float64\n",
      " 2   HeadQuarter    654 non-null    object \n",
      " 3   Sector         654 non-null    object \n",
      " 4   What_it_does   654 non-null    object \n",
      " 5   Founders       654 non-null    object \n",
      " 6   Investor       654 non-null    object \n",
      " 7   Amount         654 non-null    float64\n",
      " 8   Stage          654 non-null    object \n",
      "dtypes: float64(2), object(7)\n",
      "memory usage: 51.1+ KB\n"
     ]
    }
   ],
   "source": [
    "# Drop duplicate rows\n",
    "data_2021_no_duplicates = data_2021.drop_duplicates()\n",
    "\n",
    "# Drop rows with missing values\n",
    "data_2021_cleaned = data_2021_no_duplicates.dropna()\n",
    "\n",
    "# Verify the changes\n",
    "data_2021_cleaned.info()"
   ]
  },
  {
   "cell_type": "markdown",
   "metadata": {},
   "source": [
    "## Data_2019 Manipulation"
   ]
  },
  {
   "cell_type": "markdown",
   "metadata": {},
   "source": [
    "#### Load csv data from other sources for analysis"
   ]
  },
  {
   "cell_type": "code",
   "execution_count": 31,
   "metadata": {},
   "outputs": [
    {
     "data": {
      "text/html": [
       "<div>\n",
       "<style scoped>\n",
       "    .dataframe tbody tr th:only-of-type {\n",
       "        vertical-align: middle;\n",
       "    }\n",
       "\n",
       "    .dataframe tbody tr th {\n",
       "        vertical-align: top;\n",
       "    }\n",
       "\n",
       "    .dataframe thead th {\n",
       "        text-align: right;\n",
       "    }\n",
       "</style>\n",
       "<table border=\"1\" class=\"dataframe\">\n",
       "  <thead>\n",
       "    <tr style=\"text-align: right;\">\n",
       "      <th></th>\n",
       "      <th>Company/Brand</th>\n",
       "      <th>Founded</th>\n",
       "      <th>HeadQuarter</th>\n",
       "      <th>Sector</th>\n",
       "      <th>What it does</th>\n",
       "      <th>Founders</th>\n",
       "      <th>Investor</th>\n",
       "      <th>Amount($)</th>\n",
       "      <th>Stage</th>\n",
       "    </tr>\n",
       "  </thead>\n",
       "  <tbody>\n",
       "    <tr>\n",
       "      <th>0</th>\n",
       "      <td>Bombay Shaving</td>\n",
       "      <td>NaN</td>\n",
       "      <td>NaN</td>\n",
       "      <td>Ecommerce</td>\n",
       "      <td>Provides a range of male grooming products</td>\n",
       "      <td>Shantanu Deshpande</td>\n",
       "      <td>Sixth Sense Ventures</td>\n",
       "      <td>$6,300,000</td>\n",
       "      <td>NaN</td>\n",
       "    </tr>\n",
       "    <tr>\n",
       "      <th>1</th>\n",
       "      <td>Ruangguru</td>\n",
       "      <td>2014.0</td>\n",
       "      <td>Mumbai</td>\n",
       "      <td>Edtech</td>\n",
       "      <td>A learning platform that provides topic-based ...</td>\n",
       "      <td>Adamas Belva Syah Devara, Iman Usman.</td>\n",
       "      <td>General Atlantic</td>\n",
       "      <td>$150,000,000</td>\n",
       "      <td>Series C</td>\n",
       "    </tr>\n",
       "    <tr>\n",
       "      <th>2</th>\n",
       "      <td>Eduisfun</td>\n",
       "      <td>NaN</td>\n",
       "      <td>Mumbai</td>\n",
       "      <td>Edtech</td>\n",
       "      <td>It aims to make learning fun via games.</td>\n",
       "      <td>Jatin Solanki</td>\n",
       "      <td>Deepak Parekh, Amitabh Bachchan, Piyush Pandey</td>\n",
       "      <td>$28,000,000</td>\n",
       "      <td>Fresh funding</td>\n",
       "    </tr>\n",
       "    <tr>\n",
       "      <th>3</th>\n",
       "      <td>HomeLane</td>\n",
       "      <td>2014.0</td>\n",
       "      <td>Chennai</td>\n",
       "      <td>Interior design</td>\n",
       "      <td>Provides interior designing solutions</td>\n",
       "      <td>Srikanth Iyer, Rama Harinath</td>\n",
       "      <td>Evolvence India Fund (EIF), Pidilite Group, FJ...</td>\n",
       "      <td>$30,000,000</td>\n",
       "      <td>Series D</td>\n",
       "    </tr>\n",
       "    <tr>\n",
       "      <th>4</th>\n",
       "      <td>Nu Genes</td>\n",
       "      <td>2004.0</td>\n",
       "      <td>Telangana</td>\n",
       "      <td>AgriTech</td>\n",
       "      <td>It is a seed company engaged in production, pr...</td>\n",
       "      <td>Narayana Reddy Punyala</td>\n",
       "      <td>Innovation in Food and Agriculture (IFA)</td>\n",
       "      <td>$6,000,000</td>\n",
       "      <td>NaN</td>\n",
       "    </tr>\n",
       "  </tbody>\n",
       "</table>\n",
       "</div>"
      ],
      "text/plain": [
       "    Company/Brand  Founded HeadQuarter           Sector  \\\n",
       "0  Bombay Shaving      NaN         NaN        Ecommerce   \n",
       "1       Ruangguru   2014.0      Mumbai           Edtech   \n",
       "2        Eduisfun      NaN      Mumbai           Edtech   \n",
       "3        HomeLane   2014.0     Chennai  Interior design   \n",
       "4        Nu Genes   2004.0   Telangana         AgriTech   \n",
       "\n",
       "                                        What it does  \\\n",
       "0         Provides a range of male grooming products   \n",
       "1  A learning platform that provides topic-based ...   \n",
       "2            It aims to make learning fun via games.   \n",
       "3              Provides interior designing solutions   \n",
       "4  It is a seed company engaged in production, pr...   \n",
       "\n",
       "                                Founders  \\\n",
       "0                     Shantanu Deshpande   \n",
       "1  Adamas Belva Syah Devara, Iman Usman.   \n",
       "2                          Jatin Solanki   \n",
       "3           Srikanth Iyer, Rama Harinath   \n",
       "4                 Narayana Reddy Punyala   \n",
       "\n",
       "                                            Investor     Amount($)  \\\n",
       "0                               Sixth Sense Ventures    $6,300,000   \n",
       "1                                   General Atlantic  $150,000,000   \n",
       "2     Deepak Parekh, Amitabh Bachchan, Piyush Pandey   $28,000,000   \n",
       "3  Evolvence India Fund (EIF), Pidilite Group, FJ...   $30,000,000   \n",
       "4           Innovation in Food and Agriculture (IFA)    $6,000,000   \n",
       "\n",
       "           Stage  \n",
       "0            NaN  \n",
       "1       Series C  \n",
       "2  Fresh funding  \n",
       "3       Series D  \n",
       "4            NaN  "
      ]
     },
     "execution_count": 31,
     "metadata": {},
     "output_type": "execute_result"
    }
   ],
   "source": [
    "# Read 2019 DataFrame to understand data structure.\n",
    "data_2019=pd.read_csv(\"D:\\\\JHanson\\\\Justice Hanson\\\\DS Career Accelerator\\Project 1\\\\Indian-Start-up-Investment-Analysis\\\\CSV Data\\\\startup_funding2019.csv\")\n",
    "\n",
    "data_2019.head(5)"
   ]
  },
  {
   "cell_type": "markdown",
   "metadata": {},
   "source": [
    "#### Check data structure"
   ]
  },
  {
   "cell_type": "code",
   "execution_count": 32,
   "metadata": {},
   "outputs": [
    {
     "data": {
      "text/plain": [
       "(89, 9)"
      ]
     },
     "execution_count": 32,
     "metadata": {},
     "output_type": "execute_result"
    }
   ],
   "source": [
    "# Check data shape \n",
    "\n",
    "data_2019.shape"
   ]
  },
  {
   "cell_type": "code",
   "execution_count": 33,
   "metadata": {},
   "outputs": [
    {
     "name": "stdout",
     "output_type": "stream",
     "text": [
      "<class 'pandas.core.frame.DataFrame'>\n",
      "RangeIndex: 89 entries, 0 to 88\n",
      "Data columns (total 9 columns):\n",
      " #   Column         Non-Null Count  Dtype  \n",
      "---  ------         --------------  -----  \n",
      " 0   Company/Brand  89 non-null     object \n",
      " 1   Founded        60 non-null     float64\n",
      " 2   HeadQuarter    70 non-null     object \n",
      " 3   Sector         84 non-null     object \n",
      " 4   What it does   89 non-null     object \n",
      " 5   Founders       86 non-null     object \n",
      " 6   Investor       89 non-null     object \n",
      " 7   Amount($)      89 non-null     object \n",
      " 8   Stage          43 non-null     object \n",
      "dtypes: float64(1), object(8)\n",
      "memory usage: 6.4+ KB\n"
     ]
    }
   ],
   "source": [
    "# Check data information and Dtype\n",
    "data_2019.info()"
   ]
  },
  {
   "cell_type": "markdown",
   "metadata": {},
   "source": [
    "By observation, Amount ($) is not in the correct data type"
   ]
  },
  {
   "cell_type": "markdown",
   "metadata": {},
   "source": [
    "### Investigate why Amount ($) is object data type instead of float"
   ]
  },
  {
   "cell_type": "code",
   "execution_count": 34,
   "metadata": {},
   "outputs": [
    {
     "name": "stdout",
     "output_type": "stream",
     "text": [
      "0       $6,300,000\n",
      "1     $150,000,000\n",
      "2      $28,000,000\n",
      "3      $30,000,000\n",
      "4       $6,000,000\n",
      "          ...     \n",
      "84     $20,000,000\n",
      "85    $693,000,000\n",
      "86      $5,000,000\n",
      "87     $50,000,000\n",
      "88     $33,000,000\n",
      "Name: Amount($), Length: 89, dtype: object\n"
     ]
    }
   ],
   "source": [
    "# Print the 'Amount($)' column to examine its contents\n",
    "print(data_2019['Amount($)'])"
   ]
  },
  {
   "cell_type": "code",
   "execution_count": 35,
   "metadata": {},
   "outputs": [
    {
     "name": "stdout",
     "output_type": "stream",
     "text": [
      "0       6300000\n",
      "1     150000000\n",
      "2      28000000\n",
      "3      30000000\n",
      "4       6000000\n",
      "        ...    \n",
      "84     20000000\n",
      "85    693000000\n",
      "86      5000000\n",
      "87     50000000\n",
      "88     33000000\n",
      "Name: Amount($), Length: 89, dtype: object\n"
     ]
    }
   ],
   "source": [
    "# Replace 'Undisclosed' with np.nan\n",
    "data_2019['Amount($)'] = data_2019['Amount($)'].replace('Undisclosed', np.nan)\n",
    "\n",
    "# Remove dollar signs and commas\n",
    "data_2019['Amount($)'] = data_2019['Amount($)'].str.replace('[\\$,]', '', regex=True)\n",
    "\n",
    "print(data_2019['Amount($)'])"
   ]
  },
  {
   "cell_type": "markdown",
   "metadata": {},
   "source": [
    "#### Further investigate why Amount dtype is still object after stripping off $-symbol"
   ]
  },
  {
   "cell_type": "code",
   "execution_count": 36,
   "metadata": {},
   "outputs": [
    {
     "name": "stdout",
     "output_type": "stream",
     "text": [
      "['6300000' '150000000' '28000000' '30000000' '6000000' nan '1000000'\n",
      " '20000000' '275000000' '22000000' '5000000' '140500' '540000000'\n",
      " '15000000' '182700' '12000000' '11000000' '15500000' '1500000' '5500000'\n",
      " '2500000' '140000' '230000000' '49400000' '32000000' '26000000' '150000'\n",
      " '400000' '2000000' '100000000' '8000000' '100000' '50000000' '120000000'\n",
      " '4000000' '6800000' '36000000' '5700000' '25000000' '600000' '70000000'\n",
      " '60000000' '220000' '2800000' '2100000' '7000000' '311000000' '4800000'\n",
      " '693000000' '33000000']\n"
     ]
    }
   ],
   "source": [
    "# Print unique values in the 'Amount($)' column to check for any anomalies\n",
    "unique_values = data_2019['Amount($)'].unique()\n",
    "print(unique_values)"
   ]
  },
  {
   "cell_type": "markdown",
   "metadata": {},
   "source": [
    "The column still contain non-numeric values with numeric strings that needs to be converted to numeric values"
   ]
  },
  {
   "cell_type": "code",
   "execution_count": 37,
   "metadata": {},
   "outputs": [
    {
     "name": "stdout",
     "output_type": "stream",
     "text": [
      "0       6300000.0\n",
      "1     150000000.0\n",
      "2      28000000.0\n",
      "3      30000000.0\n",
      "4       6000000.0\n",
      "         ...     \n",
      "84     20000000.0\n",
      "85    693000000.0\n",
      "86      5000000.0\n",
      "87     50000000.0\n",
      "88     33000000.0\n",
      "Name: Amount($), Length: 89, dtype: float64\n"
     ]
    }
   ],
   "source": [
    "# Replace non-numeric entries with np.nan\n",
    "data_2019['Amount($)'] = data_2019['Amount($)'].replace(['Undisclosed', 'N/A', 'na', 'NaN'], np.nan)\n",
    "\n",
    "# Remove dollar signs and commas\n",
    "data_2019['Amount($)'] = data_2019['Amount($)'].str.replace('[\\$,]', '', regex=True)\n",
    "\n",
    "# Convert 'Amount($)' column to float\n",
    "data_2019['Amount($)'] = pd.to_numeric(data_2019['Amount($)'], errors='coerce')\n",
    "\n",
    "# Print the cleaned 'Amount($)' column to verify\n",
    "print(data_2019['Amount($)'])"
   ]
  },
  {
   "cell_type": "code",
   "execution_count": 38,
   "metadata": {},
   "outputs": [
    {
     "name": "stdout",
     "output_type": "stream",
     "text": [
      "<class 'pandas.core.frame.DataFrame'>\n",
      "RangeIndex: 89 entries, 0 to 88\n",
      "Data columns (total 9 columns):\n",
      " #   Column         Non-Null Count  Dtype  \n",
      "---  ------         --------------  -----  \n",
      " 0   Company/Brand  89 non-null     object \n",
      " 1   Founded        60 non-null     float64\n",
      " 2   HeadQuarter    70 non-null     object \n",
      " 3   Sector         84 non-null     object \n",
      " 4   What it does   89 non-null     object \n",
      " 5   Founders       86 non-null     object \n",
      " 6   Investor       89 non-null     object \n",
      " 7   Amount($)      77 non-null     float64\n",
      " 8   Stage          43 non-null     object \n",
      "dtypes: float64(2), object(7)\n",
      "memory usage: 6.4+ KB\n",
      "None\n",
      "\n",
      "Percentage of Missing Values:\n",
      "Company/Brand     0.000000\n",
      "Founded          32.584270\n",
      "HeadQuarter      21.348315\n",
      "Sector            5.617978\n",
      "What it does      0.000000\n",
      "Founders          3.370787\n",
      "Investor          0.000000\n",
      "Amount($)        13.483146\n",
      "Stage            51.685393\n",
      "dtype: float64\n"
     ]
    }
   ],
   "source": [
    "'''Verify data structure and rate of missing values for easy decison'''\n",
    "# Verify data types\n",
    "print(data_2019.info())\n",
    "\n",
    "# Calculate and print the percentage of missing values\n",
    "missing_values_percentage = data_2019.isnull().mean() * 100\n",
    "print(\"\\nPercentage of Missing Values:\")\n",
    "print(missing_values_percentage)\n"
   ]
  },
  {
   "cell_type": "code",
   "execution_count": 39,
   "metadata": {},
   "outputs": [
    {
     "name": "stdout",
     "output_type": "stream",
     "text": [
      "[nan 'Mumbai' 'Chennai' 'Telangana' 'Pune' 'Bangalore' 'Noida' 'Delhi'\n",
      " 'Ahmedabad' 'Gurugram' 'Haryana' 'Chandigarh' 'Jaipur' 'New Delhi'\n",
      " 'Surat' 'Uttar pradesh' 'Hyderabad' 'Rajasthan']\n"
     ]
    }
   ],
   "source": [
    "# Veirfy values in HeadQuarter\n",
    "print(data_2019['HeadQuarter'].unique())\n"
   ]
  },
  {
   "cell_type": "markdown",
   "metadata": {},
   "source": [
    "#### Standardize the representation of locations in the HeadQuarter column and then impute missing values using the most frequent value (mode) in the column."
   ]
  },
  {
   "cell_type": "code",
   "execution_count": 40,
   "metadata": {},
   "outputs": [],
   "source": [
    "# Impute missing values for 'HeadQuarter' column with mode\n",
    "headquarter_imputer = SimpleImputer(strategy='most_frequent')\n",
    "data_2019['HeadQuarter'] = headquarter_imputer.fit_transform(data_2019['HeadQuarter'].values.reshape(-1, 1)).ravel()\n",
    "\n",
    "# Impute missing values for 'Founded' column with median\n",
    "founded_imputer = SimpleImputer(strategy='mean')\n",
    "data_2019['Founded'] = founded_imputer.fit_transform(data_2019[['Founded']]).ravel()\n",
    "\n",
    "# Impute missing values for 'Stage' column with mode\n",
    "stage_imputer = SimpleImputer(strategy='most_frequent')\n",
    "data_2019['Stage'] = stage_imputer.fit_transform(data_2019[['Stage']]).ravel()\n",
    "\n"
   ]
  },
  {
   "cell_type": "code",
   "execution_count": 41,
   "metadata": {},
   "outputs": [
    {
     "name": "stdout",
     "output_type": "stream",
     "text": [
      "<class 'pandas.core.frame.DataFrame'>\n",
      "RangeIndex: 89 entries, 0 to 88\n",
      "Data columns (total 9 columns):\n",
      " #   Column         Non-Null Count  Dtype  \n",
      "---  ------         --------------  -----  \n",
      " 0   Company/Brand  89 non-null     object \n",
      " 1   Founded        89 non-null     float64\n",
      " 2   HeadQuarter    89 non-null     object \n",
      " 3   Sector         84 non-null     object \n",
      " 4   What it does   89 non-null     object \n",
      " 5   Founders       86 non-null     object \n",
      " 6   Investor       89 non-null     object \n",
      " 7   Amount($)      77 non-null     float64\n",
      " 8   Stage          89 non-null     object \n",
      "dtypes: float64(2), object(7)\n",
      "memory usage: 6.4+ KB\n",
      "None\n",
      "\n",
      "Percentage of Missing Values After Imputation:\n",
      "Company/Brand     0.000000\n",
      "Founded           0.000000\n",
      "HeadQuarter       0.000000\n",
      "Sector            5.617978\n",
      "What it does      0.000000\n",
      "Founders          3.370787\n",
      "Investor          0.000000\n",
      "Amount($)        13.483146\n",
      "Stage             0.000000\n",
      "dtype: float64\n"
     ]
    }
   ],
   "source": [
    "# Assign the variable data_2019_clean\n",
    "data_2019_clean = data_2019.copy()\n",
    "\n",
    "# Print for verification\n",
    "#print(data_2019_clean)\n",
    "\n",
    "# Verify imputed values\n",
    "print(data_2019_clean.info())\n",
    "\n",
    "# Check for missing values again\n",
    "missing_values_after_imputation = data_2019_clean.isnull().sum()\n",
    "print(\"\\nPercentage of Missing Values After Imputation:\")\n",
    "print((missing_values_after_imputation / len(data_2019_clean)) * 100)\n"
   ]
  },
  {
   "cell_type": "markdown",
   "metadata": {},
   "source": [
    "#### Confirm imputation"
   ]
  },
  {
   "cell_type": "code",
   "execution_count": 42,
   "metadata": {},
   "outputs": [
    {
     "name": "stdout",
     "output_type": "stream",
     "text": [
      "<class 'pandas.core.frame.DataFrame'>\n",
      "RangeIndex: 89 entries, 0 to 88\n",
      "Data columns (total 9 columns):\n",
      " #   Column         Non-Null Count  Dtype  \n",
      "---  ------         --------------  -----  \n",
      " 0   Company/Brand  89 non-null     object \n",
      " 1   Founded        89 non-null     float64\n",
      " 2   HeadQuarter    89 non-null     object \n",
      " 3   Sector         84 non-null     object \n",
      " 4   What it does   89 non-null     object \n",
      " 5   Founders       86 non-null     object \n",
      " 6   Investor       89 non-null     object \n",
      " 7   Amount($)      77 non-null     float64\n",
      " 8   Stage          89 non-null     object \n",
      "dtypes: float64(2), object(7)\n",
      "memory usage: 6.4+ KB\n"
     ]
    }
   ],
   "source": [
    "# Verify imputed values\n",
    "data_2019_clean.info()"
   ]
  },
  {
   "cell_type": "markdown",
   "metadata": {},
   "source": [
    "## Data_2018 Manipulation"
   ]
  },
  {
   "cell_type": "code",
   "execution_count": 43,
   "metadata": {},
   "outputs": [
    {
     "data": {
      "text/html": [
       "<div>\n",
       "<style scoped>\n",
       "    .dataframe tbody tr th:only-of-type {\n",
       "        vertical-align: middle;\n",
       "    }\n",
       "\n",
       "    .dataframe tbody tr th {\n",
       "        vertical-align: top;\n",
       "    }\n",
       "\n",
       "    .dataframe thead th {\n",
       "        text-align: right;\n",
       "    }\n",
       "</style>\n",
       "<table border=\"1\" class=\"dataframe\">\n",
       "  <thead>\n",
       "    <tr style=\"text-align: right;\">\n",
       "      <th></th>\n",
       "      <th>Company Name</th>\n",
       "      <th>Industry</th>\n",
       "      <th>Round/Series</th>\n",
       "      <th>Amount</th>\n",
       "      <th>Location</th>\n",
       "      <th>About Company</th>\n",
       "    </tr>\n",
       "  </thead>\n",
       "  <tbody>\n",
       "    <tr>\n",
       "      <th>0</th>\n",
       "      <td>TheCollegeFever</td>\n",
       "      <td>Brand Marketing, Event Promotion, Marketing, S...</td>\n",
       "      <td>Seed</td>\n",
       "      <td>250000</td>\n",
       "      <td>Bangalore, Karnataka, India</td>\n",
       "      <td>TheCollegeFever is a hub for fun, fiesta and f...</td>\n",
       "    </tr>\n",
       "    <tr>\n",
       "      <th>1</th>\n",
       "      <td>Happy Cow Dairy</td>\n",
       "      <td>Agriculture, Farming</td>\n",
       "      <td>Seed</td>\n",
       "      <td>₹40,000,000</td>\n",
       "      <td>Mumbai, Maharashtra, India</td>\n",
       "      <td>A startup which aggregates milk from dairy far...</td>\n",
       "    </tr>\n",
       "    <tr>\n",
       "      <th>2</th>\n",
       "      <td>MyLoanCare</td>\n",
       "      <td>Credit, Financial Services, Lending, Marketplace</td>\n",
       "      <td>Series A</td>\n",
       "      <td>₹65,000,000</td>\n",
       "      <td>Gurgaon, Haryana, India</td>\n",
       "      <td>Leading Online Loans Marketplace in India</td>\n",
       "    </tr>\n",
       "    <tr>\n",
       "      <th>3</th>\n",
       "      <td>PayMe India</td>\n",
       "      <td>Financial Services, FinTech</td>\n",
       "      <td>Angel</td>\n",
       "      <td>2000000</td>\n",
       "      <td>Noida, Uttar Pradesh, India</td>\n",
       "      <td>PayMe India is an innovative FinTech organizat...</td>\n",
       "    </tr>\n",
       "    <tr>\n",
       "      <th>4</th>\n",
       "      <td>Eunimart</td>\n",
       "      <td>E-Commerce Platforms, Retail, SaaS</td>\n",
       "      <td>Seed</td>\n",
       "      <td>—</td>\n",
       "      <td>Hyderabad, Andhra Pradesh, India</td>\n",
       "      <td>Eunimart is a one stop solution for merchants ...</td>\n",
       "    </tr>\n",
       "  </tbody>\n",
       "</table>\n",
       "</div>"
      ],
      "text/plain": [
       "      Company Name                                           Industry  \\\n",
       "0  TheCollegeFever  Brand Marketing, Event Promotion, Marketing, S...   \n",
       "1  Happy Cow Dairy                               Agriculture, Farming   \n",
       "2       MyLoanCare   Credit, Financial Services, Lending, Marketplace   \n",
       "3      PayMe India                        Financial Services, FinTech   \n",
       "4         Eunimart                 E-Commerce Platforms, Retail, SaaS   \n",
       "\n",
       "  Round/Series       Amount                          Location  \\\n",
       "0         Seed       250000       Bangalore, Karnataka, India   \n",
       "1         Seed  ₹40,000,000        Mumbai, Maharashtra, India   \n",
       "2     Series A  ₹65,000,000           Gurgaon, Haryana, India   \n",
       "3        Angel      2000000       Noida, Uttar Pradesh, India   \n",
       "4         Seed            —  Hyderabad, Andhra Pradesh, India   \n",
       "\n",
       "                                       About Company  \n",
       "0  TheCollegeFever is a hub for fun, fiesta and f...  \n",
       "1  A startup which aggregates milk from dairy far...  \n",
       "2          Leading Online Loans Marketplace in India  \n",
       "3  PayMe India is an innovative FinTech organizat...  \n",
       "4  Eunimart is a one stop solution for merchants ...  "
      ]
     },
     "execution_count": 43,
     "metadata": {},
     "output_type": "execute_result"
    }
   ],
   "source": [
    "# Read 2018 DataFrame to understand data structure.\n",
    "data_2018=pd.read_csv(\"D:\\\\JHanson\\\\Justice Hanson\\\\DS Career Accelerator\\Project 1\\\\Indian-Start-up-Investment-Analysis\\\\CSV Data\\\\startup_funding2018.csv\")\n",
    "\n",
    "data_2018.head(5)"
   ]
  },
  {
   "cell_type": "markdown",
   "metadata": {},
   "source": [
    "#### Check Data Structure"
   ]
  },
  {
   "cell_type": "code",
   "execution_count": 44,
   "metadata": {},
   "outputs": [
    {
     "data": {
      "text/plain": [
       "(526, 6)"
      ]
     },
     "execution_count": 44,
     "metadata": {},
     "output_type": "execute_result"
    }
   ],
   "source": [
    "# Confirm Shape\n",
    "data_2018.shape"
   ]
  },
  {
   "cell_type": "code",
   "execution_count": 45,
   "metadata": {},
   "outputs": [
    {
     "name": "stdout",
     "output_type": "stream",
     "text": [
      "<class 'pandas.core.frame.DataFrame'>\n",
      "RangeIndex: 526 entries, 0 to 525\n",
      "Data columns (total 6 columns):\n",
      " #   Column         Non-Null Count  Dtype \n",
      "---  ------         --------------  ----- \n",
      " 0   Company Name   526 non-null    object\n",
      " 1   Industry       526 non-null    object\n",
      " 2   Round/Series   526 non-null    object\n",
      " 3   Amount         526 non-null    object\n",
      " 4   Location       526 non-null    object\n",
      " 5   About Company  526 non-null    object\n",
      "dtypes: object(6)\n",
      "memory usage: 24.8+ KB\n"
     ]
    }
   ],
   "source": [
    "# Check data information and Dtype\n",
    "data_2018.info()"
   ]
  },
  {
   "cell_type": "markdown",
   "metadata": {},
   "source": [
    "#### its observed some columns are missing from data_2018 as compared to the rest of the datasets, with no missing values but wrong data type  for the Amount column"
   ]
  },
  {
   "cell_type": "markdown",
   "metadata": {},
   "source": [
    "### Investigate Dtype for Amount"
   ]
  },
  {
   "cell_type": "code",
   "execution_count": 46,
   "metadata": {},
   "outputs": [
    {
     "name": "stdout",
     "output_type": "stream",
     "text": [
      "0           250000\n",
      "1      ₹40,000,000\n",
      "2      ₹65,000,000\n",
      "3          2000000\n",
      "4                —\n",
      "          ...     \n",
      "521      225000000\n",
      "522              —\n",
      "523           7500\n",
      "524    ₹35,000,000\n",
      "525       35000000\n",
      "Name: Amount, Length: 526, dtype: object\n"
     ]
    }
   ],
   "source": [
    "# Print the 'Amount($)' column to examine its contents\n",
    "print(data_2018['Amount'])"
   ]
  },
  {
   "cell_type": "markdown",
   "metadata": {},
   "source": [
    "#### Strip off currency symbol and convert Amount to the right dtype"
   ]
  },
  {
   "cell_type": "code",
   "execution_count": 47,
   "metadata": {},
   "outputs": [
    {
     "name": "stdout",
     "output_type": "stream",
     "text": [
      "float64\n",
      "0         250000.0\n",
      "1       40000000.0\n",
      "2       65000000.0\n",
      "3        2000000.0\n",
      "4              NaN\n",
      "          ...     \n",
      "521    225000000.0\n",
      "522            NaN\n",
      "523         7500.0\n",
      "524     35000000.0\n",
      "525     35000000.0\n",
      "Name: Amount, Length: 526, dtype: float64\n"
     ]
    }
   ],
   "source": [
    "# Remove currency symbols and commas, then convert to numeric\n",
    "data_2018['Amount'] = data_2018['Amount'].str.replace(r'[^\\d]', '', regex=True)  # Remove non-digit characters\n",
    "data_2018['Amount'] = pd.to_numeric(data_2018['Amount'], errors='coerce')  # Convert to numeric, set errors to NaN\n",
    "\n",
    "# Print the cleaned data and its data type\n",
    "print(data_2018['Amount'].dtype)\n",
    "print(data_2018['Amount'])"
   ]
  },
  {
   "cell_type": "markdown",
   "metadata": {},
   "source": [
    "#### Calculate rate of missing values in data_2018"
   ]
  },
  {
   "cell_type": "code",
   "execution_count": 48,
   "metadata": {},
   "outputs": [
    {
     "name": "stdout",
     "output_type": "stream",
     "text": [
      "               Missing Values  Percentage\n",
      "Company Name                0    0.000000\n",
      "Industry                    0    0.000000\n",
      "Round/Series                0    0.000000\n",
      "Amount                    148   28.136882\n",
      "Location                    0    0.000000\n",
      "About Company               0    0.000000\n"
     ]
    }
   ],
   "source": [
    "# Calculate the number of missing values\n",
    "missing_values_count = data_2018.isna().sum()\n",
    "\n",
    "# Calculate the percentage of missing values\n",
    "missing_values_percentage = (missing_values_count / len(data_2018)) * 100\n",
    "\n",
    "# Combine the two into a DataFrame for better readability\n",
    "missing_values_summary = pd.DataFrame({\n",
    "    'Missing Values': missing_values_count,\n",
    "    'Percentage': missing_values_percentage\n",
    "})\n",
    "\n",
    "# Print the summary\n",
    "print(missing_values_summary)"
   ]
  },
  {
   "cell_type": "markdown",
   "metadata": {},
   "source": [
    "#### Handle missing values in Amount Column"
   ]
  },
  {
   "cell_type": "code",
   "execution_count": 49,
   "metadata": {},
   "outputs": [
    {
     "name": "stdout",
     "output_type": "stream",
     "text": [
      "<class 'pandas.core.frame.DataFrame'>\n",
      "RangeIndex: 526 entries, 0 to 525\n",
      "Data columns (total 6 columns):\n",
      " #   Column         Non-Null Count  Dtype  \n",
      "---  ------         --------------  -----  \n",
      " 0   Company Name   526 non-null    object \n",
      " 1   Industry       526 non-null    object \n",
      " 2   Round/Series   526 non-null    object \n",
      " 3   Amount         526 non-null    float64\n",
      " 4   Location       526 non-null    object \n",
      " 5   About Company  526 non-null    object \n",
      "dtypes: float64(1), object(5)\n",
      "memory usage: 24.8+ KB\n",
      "None\n",
      "\n",
      "Percentage of Missing Values After Imputation:\n",
      "Company Name     0.0\n",
      "Industry         0.0\n",
      "Round/Series     0.0\n",
      "Amount           0.0\n",
      "Location         0.0\n",
      "About Company    0.0\n",
      "dtype: float64\n"
     ]
    }
   ],
   "source": [
    "# Create the imputer to fill missing values with the median\n",
    "amount_imputer = SimpleImputer(strategy='mean')\n",
    "\n",
    "# Impute the missing values\n",
    "data_2018['Amount'] = amount_imputer.fit_transform(data_2018[['Amount']])\n",
    "\n",
    "# Save the cleaned data to a new variable\n",
    "data_2018_clean = data_2018.copy()\n",
    "\n",
    "# Print the cleaned data and its data type for verification\n",
    "print(data_2018_clean.info())\n",
    "\n",
    "# Check for missing values again\n",
    "missing_values_after_imputation = data_2018_clean.isnull().sum()\n",
    "print(\"\\nPercentage of Missing Values After Imputation:\")\n",
    "print((missing_values_after_imputation / len(data_2018_clean)) * 100)"
   ]
  },
  {
   "cell_type": "markdown",
   "metadata": {},
   "source": [
    "#### Print the column names of cleaned datasets to verify their structure"
   ]
  },
  {
   "cell_type": "code",
   "execution_count": 50,
   "metadata": {},
   "outputs": [
    {
     "name": "stdout",
     "output_type": "stream",
     "text": [
      "Column names in 2018 DataFrame:\n",
      "Index(['Company Name', 'Industry', 'Round/Series', 'Amount', 'Location',\n",
      "       'About Company'],\n",
      "      dtype='object')\n",
      "\n",
      "Column names in 2019 DataFrame:\n",
      "Index(['Company/Brand', 'Founded', 'HeadQuarter', 'Sector', 'What it does',\n",
      "       'Founders', 'Investor', 'Amount($)', 'Stage'],\n",
      "      dtype='object')\n",
      "\n",
      "Column names in 2020 DataFrame:\n",
      "Index(['Company_Brand', 'Founded', 'HeadQuarter', 'Sector', 'What_it_does',\n",
      "       'Founders', 'Investor', 'Amount', 'Stage', 'column10'],\n",
      "      dtype='object')\n",
      "\n",
      "Column names in 2021 DataFrame:\n",
      "Index(['Company_Brand', 'Founded', 'HeadQuarter', 'Sector', 'What_it_does',\n",
      "       'Founders', 'Investor', 'Amount', 'Stage'],\n",
      "      dtype='object')\n"
     ]
    }
   ],
   "source": [
    "# Inspect column names in each DataFrame  to understand data structure.\n",
    "\n",
    "print(\"Column names in 2018 DataFrame:\")\n",
    "print(data_2018_clean.columns)\n",
    "\n",
    "print(\"\\nColumn names in 2019 DataFrame:\")\n",
    "print(data_2019_clean.columns)\n",
    "\n",
    "print(\"\\nColumn names in 2020 DataFrame:\")\n",
    "print(data_2020_cleaned.columns)\n",
    "\n",
    "print(\"\\nColumn names in 2021 DataFrame:\")\n",
    "print(data_2021_cleaned.columns)"
   ]
  },
  {
   "cell_type": "markdown",
   "metadata": {},
   "source": [
    "##### Column name Observations\n",
    "The datasets from 2018 to 2021 on Indian startup funding contain varying column names. The inconsistent column names necessitates a renaming strategy to align them uniformly before effectively merged into one DataFrame"
   ]
  },
  {
   "cell_type": "markdown",
   "metadata": {},
   "source": [
    "## Column Mapping"
   ]
  },
  {
   "cell_type": "code",
   "execution_count": 51,
   "metadata": {},
   "outputs": [
    {
     "name": "stdout",
     "output_type": "stream",
     "text": [
      "\n",
      "Renamed column names:\n",
      "2018 DataFrame: Index(['Company', 'Sector', 'Stage', 'Amount', 'HeadQuarter', 'What_it_does'], dtype='object')\n",
      "2019 DataFrame: Index(['Company', 'Founded', 'HeadQuarter', 'Sector', 'What_it_does',\n",
      "       'Founders', 'Investor', 'Amount', 'Stage'],\n",
      "      dtype='object')\n",
      "2020 DataFrame: Index(['Company', 'Founded', 'HeadQuarter', 'Sector', 'What_it_does',\n",
      "       'Founders', 'Investor', 'Amount', 'Stage', 'column10'],\n",
      "      dtype='object')\n",
      "2021 DataFrame: Index(['Company', 'Founded', 'HeadQuarter', 'Sector', 'What_it_does',\n",
      "       'Founders', 'Investor', 'Amount', 'Stage'],\n",
      "      dtype='object')\n"
     ]
    }
   ],
   "source": [
    "# Define a column_mapping dictionary to standardize column names for consistent and accurate analysis\n",
    "column_mapping = {\n",
    "    'Company Name': 'Company',\n",
    "    'Company/Brand': 'Company',\n",
    "    'Company_Brand': 'Company',\n",
    "    'Industry': 'Sector',\n",
    "    'Sector': 'Sector',\n",
    "    'Round/Series': 'Stage',\n",
    "    'Stage': 'Stage',\n",
    "    'Amount': 'Amount',\n",
    "    'Amount($)': 'Amount',\n",
    "    'Location': 'HeadQuarter',\n",
    "    'HeadQuarter': 'HeadQuarter',\n",
    "    'About Company': 'What_it_does',\n",
    "    'What it does': 'What_it_does',\n",
    "    'What_it_does': 'What_it_does',\n",
    "    'Founded': 'Founded',\n",
    "    'Founders': 'Founders',\n",
    "    'Investor': 'Investor'\n",
    "}\n",
    "\n",
    "# Rename the columns in each DataFrame using the rename method and the column_mapping\n",
    "data_2018_clean.rename(columns=column_mapping, inplace=True)\n",
    "data_2019_clean.rename(columns=column_mapping, inplace=True)\n",
    "data_2020_cleaned.rename(columns=column_mapping, inplace=True)\n",
    "data_2021_cleaned.rename(columns=column_mapping, inplace=True)\n",
    "\n",
    "# Print the renamed column names for verification\n",
    "print(\"\\nRenamed column names:\")\n",
    "print(\"2018 DataFrame:\", data_2018_clean.columns)\n",
    "print(\"2019 DataFrame:\", data_2019_clean.columns)\n",
    "print(\"2020 DataFrame:\", data_2020_cleaned.columns)\n",
    "print(\"2021 DataFrame:\", data_2021_cleaned.columns)"
   ]
  },
  {
   "cell_type": "markdown",
   "metadata": {},
   "source": [
    "## Merge 2018_Cleaned, 2019_Cleaned, 2021_Cleaned, 2021_Cleaned into one table (df_Merged)"
   ]
  },
  {
   "cell_type": "code",
   "execution_count": 52,
   "metadata": {},
   "outputs": [
    {
     "name": "stdout",
     "output_type": "stream",
     "text": [
      "\n",
      "Merged DataFrame:\n",
      "              Company                                             Sector  \\\n",
      "0     TheCollegeFever  Brand Marketing, Event Promotion, Marketing, S...   \n",
      "1     Happy Cow Dairy                               Agriculture, Farming   \n",
      "2          MyLoanCare   Credit, Financial Services, Lending, Marketplace   \n",
      "3         PayMe India                        Financial Services, FinTech   \n",
      "4            Eunimart                 E-Commerce Platforms, Retail, SaaS   \n",
      "...               ...                                                ...   \n",
      "2316         Gigforce                              Staffing & Recruiting   \n",
      "2317           Vahdam                                   Food & Beverages   \n",
      "2318     Leap Finance                                 Financial Services   \n",
      "2319     CollegeDekho                                             EdTech   \n",
      "2320           WeRize                                 Financial Services   \n",
      "\n",
      "             Stage        Amount                       HeadQuarter  \\\n",
      "0             Seed  2.500000e+05       Bangalore, Karnataka, India   \n",
      "1             Seed  4.000000e+07        Mumbai, Maharashtra, India   \n",
      "2         Series A  6.500000e+07           Gurgaon, Haryana, India   \n",
      "3            Angel  2.000000e+06       Noida, Uttar Pradesh, India   \n",
      "4             Seed  2.391683e+08  Hyderabad, Andhra Pradesh, India   \n",
      "...            ...           ...                               ...   \n",
      "2316  Pre-series A  3.000000e+06                          Gurugram   \n",
      "2317      Series D  2.000000e+07                         New Delhi   \n",
      "2318      Series C  5.500000e+07                         Bangalore   \n",
      "2319      Series B  2.600000e+07                          Gurugram   \n",
      "2320      Series A  8.000000e+06                         Bangalore   \n",
      "\n",
      "                                           What_it_does  Founded  \\\n",
      "0     TheCollegeFever is a hub for fun, fiesta and f...      NaN   \n",
      "1     A startup which aggregates milk from dairy far...      NaN   \n",
      "2             Leading Online Loans Marketplace in India      NaN   \n",
      "3     PayMe India is an innovative FinTech organizat...      NaN   \n",
      "4     Eunimart is a one stop solution for merchants ...      NaN   \n",
      "...                                                 ...      ...   \n",
      "2316                  A gig/on-demand staffing company.   2019.0   \n",
      "2317  VAHDAM is among the world’s first vertically i...   2015.0   \n",
      "2318  International education loans for high potenti...   2019.0   \n",
      "2319  Collegedekho.com is Student’s Partner, Friend ...   2015.0   \n",
      "2320  India’s first socially distributed full stack ...   2019.0   \n",
      "\n",
      "                           Founders                          Investor column10  \n",
      "0                               NaN                               NaN      NaN  \n",
      "1                               NaN                               NaN      NaN  \n",
      "2                               NaN                               NaN      NaN  \n",
      "3                               NaN                               NaN      NaN  \n",
      "4                               NaN                               NaN      NaN  \n",
      "...                             ...                               ...      ...  \n",
      "2316    Chirag Mittal, Anirudh Syal                   Endiya Partners      NaN  \n",
      "2317                     Bala Sarda                          IIFL AMC      NaN  \n",
      "2318     Arnav Kumar, Vaibhav Singh                      Owl Ventures      NaN  \n",
      "2319                   Ruchir Arora  Winter Capital, ETS, Man Capital      NaN  \n",
      "2320  Vishal Chopra, Himanshu Gupta    3one4 Capital, Kalaari Capital      NaN  \n",
      "\n",
      "[2321 rows x 10 columns]\n"
     ]
    }
   ],
   "source": [
    "# Merge DataFrames into one table using the concatenation function.\n",
    "df_merged = pd.concat([data_2018_clean, data_2019_clean, data_2020_cleaned, data_2021_cleaned], ignore_index=True)\n",
    "\n",
    "# Print the first few rows of the merged DataFrame\n",
    "print(\"\\nMerged DataFrame:\")\n",
    "print(df_merged)"
   ]
  },
  {
   "cell_type": "code",
   "execution_count": 53,
   "metadata": {},
   "outputs": [
    {
     "data": {
      "text/html": [
       "<div>\n",
       "<style scoped>\n",
       "    .dataframe tbody tr th:only-of-type {\n",
       "        vertical-align: middle;\n",
       "    }\n",
       "\n",
       "    .dataframe tbody tr th {\n",
       "        vertical-align: top;\n",
       "    }\n",
       "\n",
       "    .dataframe thead th {\n",
       "        text-align: right;\n",
       "    }\n",
       "</style>\n",
       "<table border=\"1\" class=\"dataframe\">\n",
       "  <thead>\n",
       "    <tr style=\"text-align: right;\">\n",
       "      <th></th>\n",
       "      <th>Company</th>\n",
       "      <th>Sector</th>\n",
       "      <th>Stage</th>\n",
       "      <th>Amount</th>\n",
       "      <th>HeadQuarter</th>\n",
       "      <th>What_it_does</th>\n",
       "      <th>Founded</th>\n",
       "      <th>Founders</th>\n",
       "      <th>Investor</th>\n",
       "      <th>column10</th>\n",
       "    </tr>\n",
       "  </thead>\n",
       "  <tbody>\n",
       "    <tr>\n",
       "      <th>0</th>\n",
       "      <td>TheCollegeFever</td>\n",
       "      <td>Brand Marketing, Event Promotion, Marketing, S...</td>\n",
       "      <td>Seed</td>\n",
       "      <td>2.500000e+05</td>\n",
       "      <td>Bangalore, Karnataka, India</td>\n",
       "      <td>TheCollegeFever is a hub for fun, fiesta and f...</td>\n",
       "      <td>NaN</td>\n",
       "      <td>NaN</td>\n",
       "      <td>NaN</td>\n",
       "      <td>NaN</td>\n",
       "    </tr>\n",
       "    <tr>\n",
       "      <th>1</th>\n",
       "      <td>Happy Cow Dairy</td>\n",
       "      <td>Agriculture, Farming</td>\n",
       "      <td>Seed</td>\n",
       "      <td>4.000000e+07</td>\n",
       "      <td>Mumbai, Maharashtra, India</td>\n",
       "      <td>A startup which aggregates milk from dairy far...</td>\n",
       "      <td>NaN</td>\n",
       "      <td>NaN</td>\n",
       "      <td>NaN</td>\n",
       "      <td>NaN</td>\n",
       "    </tr>\n",
       "    <tr>\n",
       "      <th>2</th>\n",
       "      <td>MyLoanCare</td>\n",
       "      <td>Credit, Financial Services, Lending, Marketplace</td>\n",
       "      <td>Series A</td>\n",
       "      <td>6.500000e+07</td>\n",
       "      <td>Gurgaon, Haryana, India</td>\n",
       "      <td>Leading Online Loans Marketplace in India</td>\n",
       "      <td>NaN</td>\n",
       "      <td>NaN</td>\n",
       "      <td>NaN</td>\n",
       "      <td>NaN</td>\n",
       "    </tr>\n",
       "    <tr>\n",
       "      <th>3</th>\n",
       "      <td>PayMe India</td>\n",
       "      <td>Financial Services, FinTech</td>\n",
       "      <td>Angel</td>\n",
       "      <td>2.000000e+06</td>\n",
       "      <td>Noida, Uttar Pradesh, India</td>\n",
       "      <td>PayMe India is an innovative FinTech organizat...</td>\n",
       "      <td>NaN</td>\n",
       "      <td>NaN</td>\n",
       "      <td>NaN</td>\n",
       "      <td>NaN</td>\n",
       "    </tr>\n",
       "    <tr>\n",
       "      <th>4</th>\n",
       "      <td>Eunimart</td>\n",
       "      <td>E-Commerce Platforms, Retail, SaaS</td>\n",
       "      <td>Seed</td>\n",
       "      <td>2.391683e+08</td>\n",
       "      <td>Hyderabad, Andhra Pradesh, India</td>\n",
       "      <td>Eunimart is a one stop solution for merchants ...</td>\n",
       "      <td>NaN</td>\n",
       "      <td>NaN</td>\n",
       "      <td>NaN</td>\n",
       "      <td>NaN</td>\n",
       "    </tr>\n",
       "  </tbody>\n",
       "</table>\n",
       "</div>"
      ],
      "text/plain": [
       "           Company                                             Sector  \\\n",
       "0  TheCollegeFever  Brand Marketing, Event Promotion, Marketing, S...   \n",
       "1  Happy Cow Dairy                               Agriculture, Farming   \n",
       "2       MyLoanCare   Credit, Financial Services, Lending, Marketplace   \n",
       "3      PayMe India                        Financial Services, FinTech   \n",
       "4         Eunimart                 E-Commerce Platforms, Retail, SaaS   \n",
       "\n",
       "      Stage        Amount                       HeadQuarter  \\\n",
       "0      Seed  2.500000e+05       Bangalore, Karnataka, India   \n",
       "1      Seed  4.000000e+07        Mumbai, Maharashtra, India   \n",
       "2  Series A  6.500000e+07           Gurgaon, Haryana, India   \n",
       "3     Angel  2.000000e+06       Noida, Uttar Pradesh, India   \n",
       "4      Seed  2.391683e+08  Hyderabad, Andhra Pradesh, India   \n",
       "\n",
       "                                        What_it_does  Founded Founders  \\\n",
       "0  TheCollegeFever is a hub for fun, fiesta and f...      NaN      NaN   \n",
       "1  A startup which aggregates milk from dairy far...      NaN      NaN   \n",
       "2          Leading Online Loans Marketplace in India      NaN      NaN   \n",
       "3  PayMe India is an innovative FinTech organizat...      NaN      NaN   \n",
       "4  Eunimart is a one stop solution for merchants ...      NaN      NaN   \n",
       "\n",
       "  Investor column10  \n",
       "0      NaN      NaN  \n",
       "1      NaN      NaN  \n",
       "2      NaN      NaN  \n",
       "3      NaN      NaN  \n",
       "4      NaN      NaN  "
      ]
     },
     "execution_count": 53,
     "metadata": {},
     "output_type": "execute_result"
    }
   ],
   "source": [
    "# Confirm merged DataFrame\n",
    "df_merged.head()"
   ]
  },
  {
   "cell_type": "markdown",
   "metadata": {},
   "source": [
    "### Verify from the bottom of the merged DataFrame"
   ]
  },
  {
   "cell_type": "code",
   "execution_count": 54,
   "metadata": {},
   "outputs": [
    {
     "data": {
      "text/html": [
       "<div>\n",
       "<style scoped>\n",
       "    .dataframe tbody tr th:only-of-type {\n",
       "        vertical-align: middle;\n",
       "    }\n",
       "\n",
       "    .dataframe tbody tr th {\n",
       "        vertical-align: top;\n",
       "    }\n",
       "\n",
       "    .dataframe thead th {\n",
       "        text-align: right;\n",
       "    }\n",
       "</style>\n",
       "<table border=\"1\" class=\"dataframe\">\n",
       "  <thead>\n",
       "    <tr style=\"text-align: right;\">\n",
       "      <th></th>\n",
       "      <th>Company</th>\n",
       "      <th>Sector</th>\n",
       "      <th>Stage</th>\n",
       "      <th>Amount</th>\n",
       "      <th>HeadQuarter</th>\n",
       "      <th>What_it_does</th>\n",
       "      <th>Founded</th>\n",
       "      <th>Founders</th>\n",
       "      <th>Investor</th>\n",
       "      <th>column10</th>\n",
       "    </tr>\n",
       "  </thead>\n",
       "  <tbody>\n",
       "    <tr>\n",
       "      <th>2316</th>\n",
       "      <td>Gigforce</td>\n",
       "      <td>Staffing &amp; Recruiting</td>\n",
       "      <td>Pre-series A</td>\n",
       "      <td>3000000.0</td>\n",
       "      <td>Gurugram</td>\n",
       "      <td>A gig/on-demand staffing company.</td>\n",
       "      <td>2019.0</td>\n",
       "      <td>Chirag Mittal, Anirudh Syal</td>\n",
       "      <td>Endiya Partners</td>\n",
       "      <td>NaN</td>\n",
       "    </tr>\n",
       "    <tr>\n",
       "      <th>2317</th>\n",
       "      <td>Vahdam</td>\n",
       "      <td>Food &amp; Beverages</td>\n",
       "      <td>Series D</td>\n",
       "      <td>20000000.0</td>\n",
       "      <td>New Delhi</td>\n",
       "      <td>VAHDAM is among the world’s first vertically i...</td>\n",
       "      <td>2015.0</td>\n",
       "      <td>Bala Sarda</td>\n",
       "      <td>IIFL AMC</td>\n",
       "      <td>NaN</td>\n",
       "    </tr>\n",
       "    <tr>\n",
       "      <th>2318</th>\n",
       "      <td>Leap Finance</td>\n",
       "      <td>Financial Services</td>\n",
       "      <td>Series C</td>\n",
       "      <td>55000000.0</td>\n",
       "      <td>Bangalore</td>\n",
       "      <td>International education loans for high potenti...</td>\n",
       "      <td>2019.0</td>\n",
       "      <td>Arnav Kumar, Vaibhav Singh</td>\n",
       "      <td>Owl Ventures</td>\n",
       "      <td>NaN</td>\n",
       "    </tr>\n",
       "    <tr>\n",
       "      <th>2319</th>\n",
       "      <td>CollegeDekho</td>\n",
       "      <td>EdTech</td>\n",
       "      <td>Series B</td>\n",
       "      <td>26000000.0</td>\n",
       "      <td>Gurugram</td>\n",
       "      <td>Collegedekho.com is Student’s Partner, Friend ...</td>\n",
       "      <td>2015.0</td>\n",
       "      <td>Ruchir Arora</td>\n",
       "      <td>Winter Capital, ETS, Man Capital</td>\n",
       "      <td>NaN</td>\n",
       "    </tr>\n",
       "    <tr>\n",
       "      <th>2320</th>\n",
       "      <td>WeRize</td>\n",
       "      <td>Financial Services</td>\n",
       "      <td>Series A</td>\n",
       "      <td>8000000.0</td>\n",
       "      <td>Bangalore</td>\n",
       "      <td>India’s first socially distributed full stack ...</td>\n",
       "      <td>2019.0</td>\n",
       "      <td>Vishal Chopra, Himanshu Gupta</td>\n",
       "      <td>3one4 Capital, Kalaari Capital</td>\n",
       "      <td>NaN</td>\n",
       "    </tr>\n",
       "  </tbody>\n",
       "</table>\n",
       "</div>"
      ],
      "text/plain": [
       "           Company                 Sector         Stage      Amount  \\\n",
       "2316      Gigforce  Staffing & Recruiting  Pre-series A   3000000.0   \n",
       "2317        Vahdam       Food & Beverages      Series D  20000000.0   \n",
       "2318  Leap Finance     Financial Services      Series C  55000000.0   \n",
       "2319  CollegeDekho                 EdTech      Series B  26000000.0   \n",
       "2320        WeRize     Financial Services      Series A   8000000.0   \n",
       "\n",
       "     HeadQuarter                                       What_it_does  Founded  \\\n",
       "2316    Gurugram                  A gig/on-demand staffing company.   2019.0   \n",
       "2317   New Delhi  VAHDAM is among the world’s first vertically i...   2015.0   \n",
       "2318   Bangalore  International education loans for high potenti...   2019.0   \n",
       "2319    Gurugram  Collegedekho.com is Student’s Partner, Friend ...   2015.0   \n",
       "2320   Bangalore  India’s first socially distributed full stack ...   2019.0   \n",
       "\n",
       "                           Founders                          Investor column10  \n",
       "2316    Chirag Mittal, Anirudh Syal                   Endiya Partners      NaN  \n",
       "2317                     Bala Sarda                          IIFL AMC      NaN  \n",
       "2318     Arnav Kumar, Vaibhav Singh                      Owl Ventures      NaN  \n",
       "2319                   Ruchir Arora  Winter Capital, ETS, Man Capital      NaN  \n",
       "2320  Vishal Chopra, Himanshu Gupta    3one4 Capital, Kalaari Capital      NaN  "
      ]
     },
     "execution_count": 54,
     "metadata": {},
     "output_type": "execute_result"
    }
   ],
   "source": [
    "# Print the last few rows of the merged DataFrame to verify years have been added correctly\n",
    "\n",
    "df_merged.tail()"
   ]
  },
  {
   "cell_type": "markdown",
   "metadata": {},
   "source": [
    "## Data Quality Check on the merged DataFrame"
   ]
  },
  {
   "cell_type": "code",
   "execution_count": 55,
   "metadata": {},
   "outputs": [
    {
     "name": "stdout",
     "output_type": "stream",
     "text": [
      "<class 'pandas.core.frame.DataFrame'>\n",
      "RangeIndex: 2321 entries, 0 to 2320\n",
      "Data columns (total 9 columns):\n",
      " #   Column        Non-Null Count  Dtype  \n",
      "---  ------        --------------  -----  \n",
      " 0   Company       2321 non-null   object \n",
      " 1   Sector        2316 non-null   object \n",
      " 2   Stage         2321 non-null   object \n",
      " 3   Amount        2309 non-null   float64\n",
      " 4   HeadQuarter   2321 non-null   object \n",
      " 5   What_it_does  2321 non-null   object \n",
      " 6   Founded       1795 non-null   float64\n",
      " 7   Founders      1792 non-null   object \n",
      " 8   Investor      1795 non-null   object \n",
      "dtypes: float64(2), object(7)\n",
      "memory usage: 163.3+ KB\n",
      "None\n"
     ]
    }
   ],
   "source": [
    "# Drop 'column10' permanently\n",
    "df_merged.drop(columns=['column10'], inplace=True)\n",
    "\n",
    "# Print the info to verify that 'column10' has been dropped\n",
    "print(df_merged.info())"
   ]
  },
  {
   "cell_type": "markdown",
   "metadata": {},
   "source": [
    "#### Check missing values in df_merged"
   ]
  },
  {
   "cell_type": "code",
   "execution_count": 57,
   "metadata": {},
   "outputs": [
    {
     "name": "stdout",
     "output_type": "stream",
     "text": [
      "\n",
      "Missing Values and Their Percentages:\n",
      "              Missing Values  Percentage\n",
      "Company                    0    0.000000\n",
      "Sector                     5    0.215424\n",
      "Stage                      0    0.000000\n",
      "Amount                    12    0.517019\n",
      "HeadQuarter                0    0.000000\n",
      "What_it_does               0    0.000000\n",
      "Founded                  526   22.662645\n",
      "Founders                 529   22.791900\n",
      "Investor                 526   22.662645\n"
     ]
    }
   ],
   "source": [
    "# Calculate and print the percentage of missing values for each column\n",
    "missing_values = df_merged.isnull().sum()\n",
    "missing_percentage = (missing_values / len(df_merged)) * 100\n",
    "\n",
    "# Create a DataFrame to display missing values and their percentages\n",
    "missing_df = pd.DataFrame({'Missing Values': missing_values, 'Percentage': missing_percentage})\n",
    "\n",
    "print(\"\\nMissing Values and Their Percentages:\")\n",
    "print(missing_df)"
   ]
  },
  {
   "cell_type": "markdown",
   "metadata": {},
   "source": [
    "The missing values in the columns Founded (22.66%), Founders (22.79%), and Investor (22.66%) result from the missing columns in data_2018. These missing values are significant because dropping rows with these missing values would mean losing the entire data_2018, which contains 526 rows. Therefore, it is necessary to impute these missing values. However, the Amount column, with only 0.517% and Sector (0.22%) of missing values, will be dropped. This will not affect the analysis as there is sufficient data in the Amount column to work with."
   ]
  },
  {
   "cell_type": "code",
   "execution_count": 66,
   "metadata": {},
   "outputs": [],
   "source": [
    "# Impute missing values in 'Founded' column with median\n",
    "founded_imputer = SimpleImputer(strategy='mean')\n",
    "df_merged['Founded'] = founded_imputer.fit_transform(df_merged[['Founded']])"
   ]
  },
  {
   "cell_type": "code",
   "execution_count": 75,
   "metadata": {},
   "outputs": [
    {
     "name": "stdout",
     "output_type": "stream",
     "text": [
      "(1778, 1)\n"
     ]
    }
   ],
   "source": [
    "print(df_merged[['Investor']].shape)\n"
   ]
  },
  {
   "cell_type": "code",
   "execution_count": 83,
   "metadata": {},
   "outputs": [
    {
     "name": "stdout",
     "output_type": "stream",
     "text": [
      "526                                  Sixth Sense Ventures\n",
      "527                                      General Atlantic\n",
      "528        Deepak Parekh, Amitabh Bachchan, Piyush Pandey\n",
      "529     Evolvence India Fund (EIF), Pidilite Group, FJ...\n",
      "530              Innovation in Food and Agriculture (IFA)\n",
      "                              ...                        \n",
      "2316                                      Endiya Partners\n",
      "2317                                             IIFL AMC\n",
      "2318                                         Owl Ventures\n",
      "2319                     Winter Capital, ETS, Man Capital\n",
      "2320                       3one4 Capital, Kalaari Capital\n",
      "Name: Investor, Length: 1778, dtype: object\n"
     ]
    }
   ],
   "source": [
    "print(df_merged['Investor'])\n"
   ]
  },
  {
   "cell_type": "code",
   "execution_count": 76,
   "metadata": {},
   "outputs": [
    {
     "name": "stdout",
     "output_type": "stream",
     "text": [
      "['Sixth Sense Ventures' 'General Atlantic'\n",
      " 'Deepak Parekh, Amitabh Bachchan, Piyush Pandey' ... 'Owl Ventures'\n",
      " 'Winter Capital, ETS, Man Capital' '3one4 Capital, Kalaari Capital']\n"
     ]
    }
   ],
   "source": [
    "print(df_merged['Investor'].unique())\n"
   ]
  }
 ],
 "metadata": {
  "kernelspec": {
   "display_name": "Python 3",
   "language": "python",
   "name": "python3"
  },
  "language_info": {
   "codemirror_mode": {
    "name": "ipython",
    "version": 3
   },
   "file_extension": ".py",
   "mimetype": "text/x-python",
   "name": "python",
   "nbconvert_exporter": "python",
   "pygments_lexer": "ipython3",
   "version": "3.12.3"
  }
 },
 "nbformat": 4,
 "nbformat_minor": 2
}
